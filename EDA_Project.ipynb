{
 "cells": [
  {
   "cell_type": "code",
   "execution_count": 1,
   "id": "5215ec3a",
   "metadata": {},
   "outputs": [],
   "source": [
    "%matplotlib inline\n",
    "import pandas as pd\n",
    "import numpy as np\n",
    "import seaborn as sns\n",
    "import matplotlib.pyplot as plt\n",
    "import warnings\n",
    "from sklearn.model_selection import GridSearchCV\n",
    "from sklearn.preprocessing import StandardScaler\n",
    "from sklearn.model_selection import train_test_split\n",
    "from sklearn.neighbors import KNeighborsClassifier\n",
    "from sklearn.metrics import accuracy_score,confusion_matrix,precision_score, classification_report\n",
    "from sklearn.tree import DecisionTreeClassifier\n",
    "from sklearn.linear_model import LogisticRegression\n",
    "from sklearn.ensemble import RandomForestClassifier\n",
    "from sklearn.ensemble import AdaBoostClassifier\n",
    "from sklearn.ensemble import BaggingClassifier\n",
    "from sklearn.svm import SVC\n",
    "warnings.filterwarnings('ignore')"
   ]
  },
  {
   "cell_type": "code",
   "execution_count": 2,
   "id": "6793c6af",
   "metadata": {},
   "outputs": [],
   "source": [
    "def percentage(ax, feature):\n",
    "    total = len(feature)\n",
    "    for p in ax.patches:\n",
    "        percentage = '{:.1f}%'.format(100 * p.get_height()/total)\n",
    "        x = p.get_x() + p.get_width() / 2 - 0.05\n",
    "        y = p.get_y() + p.get_height()\n",
    "        ax.annotate(percentage, (x, y), size = 14)\n",
    "        \n",
    "def percentage_hue(ax, feature, Number_of_categories, hue_categories):\n",
    "    a = [p.get_height() for p in ax.patches]\n",
    "    patch = [p for p in ax.patches]\n",
    "    for i in range(Number_of_categories):\n",
    "        total = feature.value_counts().values[i]\n",
    "        for j in range(hue_categories):\n",
    "            percentage = '{:.1f}%'.format(100 * a[(j*Number_of_categories + i)]/total)\n",
    "            x = patch[(j*Number_of_categories + i)].get_x() + patch[(j*Number_of_categories + i)].get_width() / 2 - 0.15\n",
    "            y = patch[(j*Number_of_categories + i)].get_y() + patch[(j*Number_of_categories + i)].get_height() \n",
    "            ax.annotate(percentage, (x, y), size = 14)\n",
    "    \n",
    "def test_model(y_test,y_pred):\n",
    "    print(classification_report(y_test,y_pred))\n",
    "    print()\n",
    "    print(\"Accuracy score: \",accuracy_score(y_test,y_pred))\n",
    "    print(\"Precision score: \", precision_score(y_test,y_pred))\n",
    "    \n",
    "def train_model(model,X_train,y_train,X_test,y_test):\n",
    "    model.fit(X_train,y_train)\n",
    "    y_pred = model.predict(X_test)\n",
    "    accuracy = accuracy_score(y_test,y_pred)\n",
    "    precision = precision_score(y_test,y_pred,zero_division=0)\n",
    "    \n",
    "    return accuracy,precision"
   ]
  },
  {
   "cell_type": "code",
   "execution_count": 3,
   "id": "acc38645",
   "metadata": {},
   "outputs": [],
   "source": [
    "sns.set_theme(rc={'figure.figsize':(10,8)}, palette = \"tab10\")"
   ]
  },
  {
   "cell_type": "code",
   "execution_count": 4,
   "id": "ae39d28a",
   "metadata": {},
   "outputs": [],
   "source": [
    "df = pd.read_csv(\"Employee.csv\")"
   ]
  },
  {
   "cell_type": "code",
   "execution_count": 5,
   "id": "36f67fb9",
   "metadata": {},
   "outputs": [
    {
     "data": {
      "text/html": [
       "<div>\n",
       "<style scoped>\n",
       "    .dataframe tbody tr th:only-of-type {\n",
       "        vertical-align: middle;\n",
       "    }\n",
       "\n",
       "    .dataframe tbody tr th {\n",
       "        vertical-align: top;\n",
       "    }\n",
       "\n",
       "    .dataframe thead th {\n",
       "        text-align: right;\n",
       "    }\n",
       "</style>\n",
       "<table border=\"1\" class=\"dataframe\">\n",
       "  <thead>\n",
       "    <tr style=\"text-align: right;\">\n",
       "      <th></th>\n",
       "      <th>Education</th>\n",
       "      <th>JoiningYear</th>\n",
       "      <th>City</th>\n",
       "      <th>PaymentTier</th>\n",
       "      <th>Age</th>\n",
       "      <th>Gender</th>\n",
       "      <th>EverBenched</th>\n",
       "      <th>ExperienceInCurrentDomain</th>\n",
       "      <th>LeaveOrNot</th>\n",
       "    </tr>\n",
       "  </thead>\n",
       "  <tbody>\n",
       "    <tr>\n",
       "      <th>0</th>\n",
       "      <td>Bachelors</td>\n",
       "      <td>2017</td>\n",
       "      <td>Bangalore</td>\n",
       "      <td>3</td>\n",
       "      <td>34</td>\n",
       "      <td>Male</td>\n",
       "      <td>No</td>\n",
       "      <td>0</td>\n",
       "      <td>0</td>\n",
       "    </tr>\n",
       "    <tr>\n",
       "      <th>1</th>\n",
       "      <td>Bachelors</td>\n",
       "      <td>2013</td>\n",
       "      <td>Pune</td>\n",
       "      <td>1</td>\n",
       "      <td>28</td>\n",
       "      <td>Female</td>\n",
       "      <td>No</td>\n",
       "      <td>3</td>\n",
       "      <td>1</td>\n",
       "    </tr>\n",
       "    <tr>\n",
       "      <th>2</th>\n",
       "      <td>Bachelors</td>\n",
       "      <td>2014</td>\n",
       "      <td>New Delhi</td>\n",
       "      <td>3</td>\n",
       "      <td>38</td>\n",
       "      <td>Female</td>\n",
       "      <td>No</td>\n",
       "      <td>2</td>\n",
       "      <td>0</td>\n",
       "    </tr>\n",
       "    <tr>\n",
       "      <th>3</th>\n",
       "      <td>Masters</td>\n",
       "      <td>2016</td>\n",
       "      <td>Bangalore</td>\n",
       "      <td>3</td>\n",
       "      <td>27</td>\n",
       "      <td>Male</td>\n",
       "      <td>No</td>\n",
       "      <td>5</td>\n",
       "      <td>1</td>\n",
       "    </tr>\n",
       "    <tr>\n",
       "      <th>4</th>\n",
       "      <td>Masters</td>\n",
       "      <td>2017</td>\n",
       "      <td>Pune</td>\n",
       "      <td>3</td>\n",
       "      <td>24</td>\n",
       "      <td>Male</td>\n",
       "      <td>Yes</td>\n",
       "      <td>2</td>\n",
       "      <td>1</td>\n",
       "    </tr>\n",
       "  </tbody>\n",
       "</table>\n",
       "</div>"
      ],
      "text/plain": [
       "   Education  JoiningYear       City  PaymentTier  Age  Gender EverBenched  \\\n",
       "0  Bachelors         2017  Bangalore            3   34    Male          No   \n",
       "1  Bachelors         2013       Pune            1   28  Female          No   \n",
       "2  Bachelors         2014  New Delhi            3   38  Female          No   \n",
       "3    Masters         2016  Bangalore            3   27    Male          No   \n",
       "4    Masters         2017       Pune            3   24    Male         Yes   \n",
       "\n",
       "   ExperienceInCurrentDomain  LeaveOrNot  \n",
       "0                          0           0  \n",
       "1                          3           1  \n",
       "2                          2           0  \n",
       "3                          5           1  \n",
       "4                          2           1  "
      ]
     },
     "execution_count": 5,
     "metadata": {},
     "output_type": "execute_result"
    }
   ],
   "source": [
    "df.head()"
   ]
  },
  {
   "cell_type": "code",
   "execution_count": 6,
   "id": "c6e3b87b",
   "metadata": {},
   "outputs": [
    {
     "data": {
      "text/plain": [
       "Index(['Education', 'JoiningYear', 'City', 'PaymentTier', 'Age', 'Gender',\n",
       "       'EverBenched', 'ExperienceInCurrentDomain', 'LeaveOrNot'],\n",
       "      dtype='object')"
      ]
     },
     "execution_count": 6,
     "metadata": {},
     "output_type": "execute_result"
    }
   ],
   "source": [
    "df.columns"
   ]
  },
  {
   "cell_type": "code",
   "execution_count": 7,
   "id": "cfbcb873",
   "metadata": {},
   "outputs": [
    {
     "data": {
      "text/plain": [
       "Education                    object\n",
       "JoiningYear                   int64\n",
       "City                         object\n",
       "PaymentTier                   int64\n",
       "Age                           int64\n",
       "Gender                       object\n",
       "EverBenched                  object\n",
       "ExperienceInCurrentDomain     int64\n",
       "LeaveOrNot                    int64\n",
       "dtype: object"
      ]
     },
     "execution_count": 7,
     "metadata": {},
     "output_type": "execute_result"
    }
   ],
   "source": [
    "df.dtypes"
   ]
  },
  {
   "cell_type": "code",
   "execution_count": 8,
   "id": "522a5d71",
   "metadata": {},
   "outputs": [
    {
     "data": {
      "text/html": [
       "<div>\n",
       "<style scoped>\n",
       "    .dataframe tbody tr th:only-of-type {\n",
       "        vertical-align: middle;\n",
       "    }\n",
       "\n",
       "    .dataframe tbody tr th {\n",
       "        vertical-align: top;\n",
       "    }\n",
       "\n",
       "    .dataframe thead th {\n",
       "        text-align: right;\n",
       "    }\n",
       "</style>\n",
       "<table border=\"1\" class=\"dataframe\">\n",
       "  <thead>\n",
       "    <tr style=\"text-align: right;\">\n",
       "      <th></th>\n",
       "      <th>JoiningYear</th>\n",
       "      <th>PaymentTier</th>\n",
       "      <th>Age</th>\n",
       "      <th>ExperienceInCurrentDomain</th>\n",
       "      <th>LeaveOrNot</th>\n",
       "    </tr>\n",
       "  </thead>\n",
       "  <tbody>\n",
       "    <tr>\n",
       "      <th>count</th>\n",
       "      <td>4653.000000</td>\n",
       "      <td>4653.000000</td>\n",
       "      <td>4653.000000</td>\n",
       "      <td>4653.000000</td>\n",
       "      <td>4653.000000</td>\n",
       "    </tr>\n",
       "    <tr>\n",
       "      <th>mean</th>\n",
       "      <td>2015.062970</td>\n",
       "      <td>2.698259</td>\n",
       "      <td>29.393295</td>\n",
       "      <td>2.905652</td>\n",
       "      <td>0.343864</td>\n",
       "    </tr>\n",
       "    <tr>\n",
       "      <th>std</th>\n",
       "      <td>1.863377</td>\n",
       "      <td>0.561435</td>\n",
       "      <td>4.826087</td>\n",
       "      <td>1.558240</td>\n",
       "      <td>0.475047</td>\n",
       "    </tr>\n",
       "    <tr>\n",
       "      <th>min</th>\n",
       "      <td>2012.000000</td>\n",
       "      <td>1.000000</td>\n",
       "      <td>22.000000</td>\n",
       "      <td>0.000000</td>\n",
       "      <td>0.000000</td>\n",
       "    </tr>\n",
       "    <tr>\n",
       "      <th>25%</th>\n",
       "      <td>2013.000000</td>\n",
       "      <td>3.000000</td>\n",
       "      <td>26.000000</td>\n",
       "      <td>2.000000</td>\n",
       "      <td>0.000000</td>\n",
       "    </tr>\n",
       "    <tr>\n",
       "      <th>50%</th>\n",
       "      <td>2015.000000</td>\n",
       "      <td>3.000000</td>\n",
       "      <td>28.000000</td>\n",
       "      <td>3.000000</td>\n",
       "      <td>0.000000</td>\n",
       "    </tr>\n",
       "    <tr>\n",
       "      <th>75%</th>\n",
       "      <td>2017.000000</td>\n",
       "      <td>3.000000</td>\n",
       "      <td>32.000000</td>\n",
       "      <td>4.000000</td>\n",
       "      <td>1.000000</td>\n",
       "    </tr>\n",
       "    <tr>\n",
       "      <th>max</th>\n",
       "      <td>2018.000000</td>\n",
       "      <td>3.000000</td>\n",
       "      <td>41.000000</td>\n",
       "      <td>7.000000</td>\n",
       "      <td>1.000000</td>\n",
       "    </tr>\n",
       "  </tbody>\n",
       "</table>\n",
       "</div>"
      ],
      "text/plain": [
       "       JoiningYear  PaymentTier          Age  ExperienceInCurrentDomain  \\\n",
       "count  4653.000000  4653.000000  4653.000000                4653.000000   \n",
       "mean   2015.062970     2.698259    29.393295                   2.905652   \n",
       "std       1.863377     0.561435     4.826087                   1.558240   \n",
       "min    2012.000000     1.000000    22.000000                   0.000000   \n",
       "25%    2013.000000     3.000000    26.000000                   2.000000   \n",
       "50%    2015.000000     3.000000    28.000000                   3.000000   \n",
       "75%    2017.000000     3.000000    32.000000                   4.000000   \n",
       "max    2018.000000     3.000000    41.000000                   7.000000   \n",
       "\n",
       "        LeaveOrNot  \n",
       "count  4653.000000  \n",
       "mean      0.343864  \n",
       "std       0.475047  \n",
       "min       0.000000  \n",
       "25%       0.000000  \n",
       "50%       0.000000  \n",
       "75%       1.000000  \n",
       "max       1.000000  "
      ]
     },
     "execution_count": 8,
     "metadata": {},
     "output_type": "execute_result"
    }
   ],
   "source": [
    "df.describe()"
   ]
  },
  {
   "cell_type": "code",
   "execution_count": 9,
   "id": "1c8bbba9",
   "metadata": {},
   "outputs": [
    {
     "name": "stdout",
     "output_type": "stream",
     "text": [
      "<class 'pandas.core.frame.DataFrame'>\n",
      "RangeIndex: 4653 entries, 0 to 4652\n",
      "Data columns (total 9 columns):\n",
      " #   Column                     Non-Null Count  Dtype \n",
      "---  ------                     --------------  ----- \n",
      " 0   Education                  4653 non-null   object\n",
      " 1   JoiningYear                4653 non-null   int64 \n",
      " 2   City                       4653 non-null   object\n",
      " 3   PaymentTier                4653 non-null   int64 \n",
      " 4   Age                        4653 non-null   int64 \n",
      " 5   Gender                     4653 non-null   object\n",
      " 6   EverBenched                4653 non-null   object\n",
      " 7   ExperienceInCurrentDomain  4653 non-null   int64 \n",
      " 8   LeaveOrNot                 4653 non-null   int64 \n",
      "dtypes: int64(5), object(4)\n",
      "memory usage: 327.3+ KB\n"
     ]
    }
   ],
   "source": [
    "df.info()"
   ]
  },
  {
   "cell_type": "code",
   "execution_count": 10,
   "id": "1abe7ca3",
   "metadata": {},
   "outputs": [
    {
     "data": {
      "text/plain": [
       "Education                     3\n",
       "JoiningYear                   7\n",
       "City                          3\n",
       "PaymentTier                   3\n",
       "Age                          20\n",
       "Gender                        2\n",
       "EverBenched                   2\n",
       "ExperienceInCurrentDomain     8\n",
       "LeaveOrNot                    2\n",
       "dtype: int64"
      ]
     },
     "execution_count": 10,
     "metadata": {},
     "output_type": "execute_result"
    }
   ],
   "source": [
    "df.nunique()"
   ]
  },
  {
   "cell_type": "code",
   "execution_count": 11,
   "id": "ae03c3e0",
   "metadata": {},
   "outputs": [
    {
     "data": {
      "text/plain": [
       "Education                    0\n",
       "JoiningYear                  0\n",
       "City                         0\n",
       "PaymentTier                  0\n",
       "Age                          0\n",
       "Gender                       0\n",
       "EverBenched                  0\n",
       "ExperienceInCurrentDomain    0\n",
       "LeaveOrNot                   0\n",
       "dtype: int64"
      ]
     },
     "execution_count": 11,
     "metadata": {},
     "output_type": "execute_result"
    }
   ],
   "source": [
    "df.isna().sum()"
   ]
  },
  {
   "cell_type": "code",
   "execution_count": 12,
   "id": "49a9fad2",
   "metadata": {},
   "outputs": [
    {
     "data": {
      "text/plain": [
       "(4653, 9)"
      ]
     },
     "execution_count": 12,
     "metadata": {},
     "output_type": "execute_result"
    }
   ],
   "source": [
    "df.shape"
   ]
  },
  {
   "cell_type": "code",
   "execution_count": 13,
   "id": "31b4b91f",
   "metadata": {},
   "outputs": [
    {
     "name": "stdout",
     "output_type": "stream",
     "text": [
      "No. of duplicate records : 1889\n"
     ]
    }
   ],
   "source": [
    "duplicates = df.duplicated().sum()\n",
    "print('No. of duplicate records :',duplicates)\n",
    "\n",
    "# df = df.drop_duplicates()\n",
    "# print('Shape after dropping duplicate records :',df.shape)"
   ]
  },
  {
   "cell_type": "code",
   "execution_count": 14,
   "id": "23f09294",
   "metadata": {},
   "outputs": [
    {
     "data": {
      "text/html": [
       "<div>\n",
       "<style scoped>\n",
       "    .dataframe tbody tr th:only-of-type {\n",
       "        vertical-align: middle;\n",
       "    }\n",
       "\n",
       "    .dataframe tbody tr th {\n",
       "        vertical-align: top;\n",
       "    }\n",
       "\n",
       "    .dataframe thead th {\n",
       "        text-align: right;\n",
       "    }\n",
       "</style>\n",
       "<table border=\"1\" class=\"dataframe\">\n",
       "  <thead>\n",
       "    <tr style=\"text-align: right;\">\n",
       "      <th></th>\n",
       "      <th>JoiningYear</th>\n",
       "      <th>PaymentTier</th>\n",
       "      <th>Age</th>\n",
       "      <th>ExperienceInCurrentDomain</th>\n",
       "      <th>LeaveOrNot</th>\n",
       "    </tr>\n",
       "  </thead>\n",
       "  <tbody>\n",
       "    <tr>\n",
       "      <th>count</th>\n",
       "      <td>4653.000000</td>\n",
       "      <td>4653.000000</td>\n",
       "      <td>4653.000000</td>\n",
       "      <td>4653.000000</td>\n",
       "      <td>4653.000000</td>\n",
       "    </tr>\n",
       "    <tr>\n",
       "      <th>mean</th>\n",
       "      <td>2015.062970</td>\n",
       "      <td>2.698259</td>\n",
       "      <td>29.393295</td>\n",
       "      <td>2.905652</td>\n",
       "      <td>0.343864</td>\n",
       "    </tr>\n",
       "    <tr>\n",
       "      <th>std</th>\n",
       "      <td>1.863377</td>\n",
       "      <td>0.561435</td>\n",
       "      <td>4.826087</td>\n",
       "      <td>1.558240</td>\n",
       "      <td>0.475047</td>\n",
       "    </tr>\n",
       "    <tr>\n",
       "      <th>min</th>\n",
       "      <td>2012.000000</td>\n",
       "      <td>1.000000</td>\n",
       "      <td>22.000000</td>\n",
       "      <td>0.000000</td>\n",
       "      <td>0.000000</td>\n",
       "    </tr>\n",
       "    <tr>\n",
       "      <th>25%</th>\n",
       "      <td>2013.000000</td>\n",
       "      <td>3.000000</td>\n",
       "      <td>26.000000</td>\n",
       "      <td>2.000000</td>\n",
       "      <td>0.000000</td>\n",
       "    </tr>\n",
       "    <tr>\n",
       "      <th>50%</th>\n",
       "      <td>2015.000000</td>\n",
       "      <td>3.000000</td>\n",
       "      <td>28.000000</td>\n",
       "      <td>3.000000</td>\n",
       "      <td>0.000000</td>\n",
       "    </tr>\n",
       "    <tr>\n",
       "      <th>75%</th>\n",
       "      <td>2017.000000</td>\n",
       "      <td>3.000000</td>\n",
       "      <td>32.000000</td>\n",
       "      <td>4.000000</td>\n",
       "      <td>1.000000</td>\n",
       "    </tr>\n",
       "    <tr>\n",
       "      <th>max</th>\n",
       "      <td>2018.000000</td>\n",
       "      <td>3.000000</td>\n",
       "      <td>41.000000</td>\n",
       "      <td>7.000000</td>\n",
       "      <td>1.000000</td>\n",
       "    </tr>\n",
       "  </tbody>\n",
       "</table>\n",
       "</div>"
      ],
      "text/plain": [
       "       JoiningYear  PaymentTier          Age  ExperienceInCurrentDomain  \\\n",
       "count  4653.000000  4653.000000  4653.000000                4653.000000   \n",
       "mean   2015.062970     2.698259    29.393295                   2.905652   \n",
       "std       1.863377     0.561435     4.826087                   1.558240   \n",
       "min    2012.000000     1.000000    22.000000                   0.000000   \n",
       "25%    2013.000000     3.000000    26.000000                   2.000000   \n",
       "50%    2015.000000     3.000000    28.000000                   3.000000   \n",
       "75%    2017.000000     3.000000    32.000000                   4.000000   \n",
       "max    2018.000000     3.000000    41.000000                   7.000000   \n",
       "\n",
       "        LeaveOrNot  \n",
       "count  4653.000000  \n",
       "mean      0.343864  \n",
       "std       0.475047  \n",
       "min       0.000000  \n",
       "25%       0.000000  \n",
       "50%       0.000000  \n",
       "75%       1.000000  \n",
       "max       1.000000  "
      ]
     },
     "execution_count": 14,
     "metadata": {},
     "output_type": "execute_result"
    }
   ],
   "source": [
    "df.describe()"
   ]
  },
  {
   "cell_type": "markdown",
   "id": "c0a47969",
   "metadata": {},
   "source": [
    "# Categorical Features"
   ]
  },
  {
   "cell_type": "markdown",
   "id": "54c771f7",
   "metadata": {},
   "source": [
    "### Education"
   ]
  },
  {
   "cell_type": "code",
   "execution_count": 15,
   "id": "2f663231",
   "metadata": {},
   "outputs": [
    {
     "data": {
      "text/plain": [
       "Bachelors    3601\n",
       "Masters       873\n",
       "PHD           179\n",
       "Name: Education, dtype: int64"
      ]
     },
     "execution_count": 15,
     "metadata": {},
     "output_type": "execute_result"
    }
   ],
   "source": [
    "df[\"Education\"].value_counts()"
   ]
  },
  {
   "cell_type": "code",
   "execution_count": 16,
   "id": "d8e17c99",
   "metadata": {},
   "outputs": [
    {
     "data": {
      "image/png": "[encoded data removed]",
      "text/plain": [
       "<Figure size 720x576 with 1 Axes>"
      ]
     },
     "metadata": {},
     "output_type": "display_data"
    }
   ],
   "source": [
    "ax = sns.countplot(x = 'Education',data = df)\n",
    "percentage(ax, df.Education)"
   ]
  },
  {
   "cell_type": "markdown",
   "id": "c0475041",
   "metadata": {},
   "source": [
    "### City"
   ]
  },
  {
   "cell_type": "code",
   "execution_count": 17,
   "id": "19d1ea3a",
   "metadata": {},
   "outputs": [
    {
     "data": {
      "text/plain": [
       "Bangalore    2228\n",
       "Pune         1268\n",
       "New Delhi    1157\n",
       "Name: City, dtype: int64"
      ]
     },
     "execution_count": 17,
     "metadata": {},
     "output_type": "execute_result"
    }
   ],
   "source": [
    "df['City'].value_counts()"
   ]
  },
  {
   "cell_type": "code",
   "execution_count": 18,
   "id": "b0d2888c",
   "metadata": {},
   "outputs": [
    {
     "data": {
      "image/png": "[encoded data removed]",
      "text/plain": [
       "<Figure size 720x576 with 1 Axes>"
      ]
     },
     "metadata": {},
     "output_type": "display_data"
    }
   ],
   "source": [
    "ax = sns.countplot(x = 'City',data = df)\n",
    "percentage(ax, df.City)"
   ]
  },
  {
   "cell_type": "markdown",
   "id": "cc99d6e5",
   "metadata": {},
   "source": [
    "### Gender"
   ]
  },
  {
   "cell_type": "code",
   "execution_count": 19,
   "id": "67594f37",
   "metadata": {},
   "outputs": [
    {
     "data": {
      "text/plain": [
       "Male      2778\n",
       "Female    1875\n",
       "Name: Gender, dtype: int64"
      ]
     },
     "execution_count": 19,
     "metadata": {},
     "output_type": "execute_result"
    }
   ],
   "source": [
    "df['Gender'].value_counts()"
   ]
  },
  {
   "cell_type": "code",
   "execution_count": 20,
   "id": "dcc4d4be",
   "metadata": {},
   "outputs": [
    {
     "data": {
      "image/png": "[encoded data removed]",
      "text/plain": [
       "<Figure size 720x576 with 1 Axes>"
      ]
     },
     "metadata": {},
     "output_type": "display_data"
    }
   ],
   "source": [
    "ax = sns.countplot(x = 'Gender',data = df)\n",
    "percentage(ax, df.Gender)"
   ]
  },
  {
   "cell_type": "markdown",
   "id": "307c1262",
   "metadata": {},
   "source": [
    "### EverBenched"
   ]
  },
  {
   "cell_type": "code",
   "execution_count": 21,
   "id": "c2badaf0",
   "metadata": {},
   "outputs": [
    {
     "data": {
      "text/plain": [
       "No     4175\n",
       "Yes     478\n",
       "Name: EverBenched, dtype: int64"
      ]
     },
     "execution_count": 21,
     "metadata": {},
     "output_type": "execute_result"
    }
   ],
   "source": [
    "df['EverBenched'].value_counts()"
   ]
  },
  {
   "cell_type": "code",
   "execution_count": 22,
   "id": "67e89d6c",
   "metadata": {},
   "outputs": [
    {
     "data": {
      "image/png": "[encoded data removed]",
      "text/plain": [
       "<Figure size 720x576 with 1 Axes>"
      ]
     },
     "metadata": {},
     "output_type": "display_data"
    }
   ],
   "source": [
    "ax = sns.countplot(x = 'EverBenched',data = df)\n",
    "percentage(ax, df.EverBenched)"
   ]
  },
  {
   "cell_type": "markdown",
   "id": "654e8d06",
   "metadata": {},
   "source": [
    "# Numerical Features"
   ]
  },
  {
   "cell_type": "markdown",
   "id": "1aa82996",
   "metadata": {},
   "source": [
    "### JoiningYear"
   ]
  },
  {
   "cell_type": "code",
   "execution_count": 23,
   "id": "d952fce6",
   "metadata": {},
   "outputs": [
    {
     "data": {
      "text/plain": [
       "2017    1108\n",
       "2015     781\n",
       "2014     699\n",
       "2013     669\n",
       "2016     525\n",
       "2012     504\n",
       "2018     367\n",
       "Name: JoiningYear, dtype: int64"
      ]
     },
     "execution_count": 23,
     "metadata": {},
     "output_type": "execute_result"
    }
   ],
   "source": [
    "df['JoiningYear'].value_counts()"
   ]
  },
  {
   "cell_type": "code",
   "execution_count": 24,
   "id": "96d79a7c",
   "metadata": {},
   "outputs": [
    {
     "data": {
      "image/png": "[encoded data removed]",
      "text/plain": [
       "<Figure size 720x576 with 1 Axes>"
      ]
     },
     "metadata": {},
     "output_type": "display_data"
    }
   ],
   "source": [
    "ax = sns.countplot(x = 'JoiningYear',data = df)\n",
    "percentage(ax, df.JoiningYear)"
   ]
  },
  {
   "cell_type": "markdown",
   "id": "3300e694",
   "metadata": {},
   "source": [
    "### PaymentTier"
   ]
  },
  {
   "cell_type": "code",
   "execution_count": 25,
   "id": "47247f4b",
   "metadata": {},
   "outputs": [],
   "source": [
    "df['PaymentTier'][df['PaymentTier']==3]=0\n",
    "df['PaymentTier'][df['PaymentTier']==1]=3\n",
    "df['PaymentTier'][df['PaymentTier']==2]=1\n",
    "df['PaymentTier'][df['PaymentTier']==3]=2"
   ]
  },
  {
   "cell_type": "code",
   "execution_count": 26,
   "id": "d698ca1f",
   "metadata": {},
   "outputs": [
    {
     "data": {
      "text/plain": [
       "0    3492\n",
       "1     918\n",
       "2     243\n",
       "Name: PaymentTier, dtype: int64"
      ]
     },
     "execution_count": 26,
     "metadata": {},
     "output_type": "execute_result"
    }
   ],
   "source": [
    "df['PaymentTier'].value_counts()"
   ]
  },
  {
   "cell_type": "code",
   "execution_count": 27,
   "id": "12c0b226",
   "metadata": {},
   "outputs": [
    {
     "data": {
      "image/png": "[encoded data removed]",
      "text/plain": [
       "<Figure size 720x576 with 1 Axes>"
      ]
     },
     "metadata": {},
     "output_type": "display_data"
    }
   ],
   "source": [
    "ax = sns.countplot(x = 'PaymentTier', data = df)\n",
    "percentage(ax, df.PaymentTier)"
   ]
  },
  {
   "cell_type": "markdown",
   "id": "8004a174",
   "metadata": {},
   "source": [
    "### Age"
   ]
  },
  {
   "cell_type": "code",
   "execution_count": 28,
   "id": "16717225",
   "metadata": {},
   "outputs": [
    {
     "data": {
      "text/plain": [
       "26    645\n",
       "28    630\n",
       "27    625\n",
       "25    418\n",
       "24    385\n",
       "29    230\n",
       "30    220\n",
       "37    141\n",
       "36    139\n",
       "34    136\n",
       "38    136\n",
       "40    134\n",
       "32    132\n",
       "39    131\n",
       "31    125\n",
       "33    124\n",
       "35    123\n",
       "41     82\n",
       "22     49\n",
       "23     48\n",
       "Name: Age, dtype: int64"
      ]
     },
     "execution_count": 28,
     "metadata": {},
     "output_type": "execute_result"
    }
   ],
   "source": [
    "df['Age'].value_counts()"
   ]
  },
  {
   "cell_type": "code",
   "execution_count": 29,
   "id": "06666723",
   "metadata": {},
   "outputs": [
    {
     "name": "stdout",
     "output_type": "stream",
     "text": [
      "Age Mean: 29\n"
     ]
    },
    {
     "data": {
      "image/png": "[encoded data removed]",
      "text/plain": [
       "<Figure size 720x576 with 1 Axes>"
      ]
     },
     "metadata": {},
     "output_type": "display_data"
    }
   ],
   "source": [
    "ax = sns.countplot(x = 'Age', data = df)\n",
    "percentage(ax, df.Age)\n",
    "print('Age Mean:',int(df.Age.mean()))"
   ]
  },
  {
   "cell_type": "markdown",
   "id": "c48f086d",
   "metadata": {},
   "source": [
    "### ExperienceInCurrentDomain"
   ]
  },
  {
   "cell_type": "code",
   "execution_count": 30,
   "id": "d833ba64",
   "metadata": {},
   "outputs": [
    {
     "data": {
      "text/plain": [
       "2    1087\n",
       "4     931\n",
       "5     919\n",
       "3     786\n",
       "1     558\n",
       "0     355\n",
       "7       9\n",
       "6       8\n",
       "Name: ExperienceInCurrentDomain, dtype: int64"
      ]
     },
     "execution_count": 30,
     "metadata": {},
     "output_type": "execute_result"
    }
   ],
   "source": [
    "df['ExperienceInCurrentDomain'].value_counts()"
   ]
  },
  {
   "cell_type": "code",
   "execution_count": 31,
   "id": "fc63c59b",
   "metadata": {},
   "outputs": [
    {
     "data": {
      "image/png": "[encoded data removed]",
      "text/plain": [
       "<Figure size 720x576 with 1 Axes>"
      ]
     },
     "metadata": {},
     "output_type": "display_data"
    }
   ],
   "source": [
    "ax = sns.countplot(x = 'ExperienceInCurrentDomain', data = df)\n",
    "percentage(ax, df.ExperienceInCurrentDomain)"
   ]
  },
  {
   "cell_type": "markdown",
   "id": "7e5ffd57",
   "metadata": {},
   "source": [
    "### LeaveOrNot"
   ]
  },
  {
   "cell_type": "code",
   "execution_count": 32,
   "id": "92148094",
   "metadata": {},
   "outputs": [
    {
     "data": {
      "text/plain": [
       "0    3053\n",
       "1    1600\n",
       "Name: LeaveOrNot, dtype: int64"
      ]
     },
     "execution_count": 32,
     "metadata": {},
     "output_type": "execute_result"
    }
   ],
   "source": [
    "df['LeaveOrNot'].value_counts()"
   ]
  },
  {
   "cell_type": "code",
   "execution_count": 33,
   "id": "1432aa6b",
   "metadata": {},
   "outputs": [
    {
     "data": {
      "image/png": "[encoded data removed]",
      "text/plain": [
       "<Figure size 720x576 with 1 Axes>"
      ]
     },
     "metadata": {},
     "output_type": "display_data"
    }
   ],
   "source": [
    "ax = sns.countplot(x = 'LeaveOrNot', data = df)\n",
    "percentage(ax, df.LeaveOrNot)"
   ]
  },
  {
   "cell_type": "markdown",
   "id": "1ed5e504",
   "metadata": {},
   "source": [
    "# Bivariate Analysis - Categorical Features"
   ]
  },
  {
   "cell_type": "markdown",
   "id": "47012a4f",
   "metadata": {},
   "source": [
    "### Education Vs LeaveOrNot"
   ]
  },
  {
   "cell_type": "code",
   "execution_count": 34,
   "id": "e6dca79d",
   "metadata": {},
   "outputs": [
    {
     "data": {
      "text/html": [
       "<style type=\"text/css\">\n",
       "#T_f4b71_row0_col0 {\n",
       "  background-color: #0567a1;\n",
       "  color: #f1f1f1;\n",
       "}\n",
       "#T_f4b71_row0_col1 {\n",
       "  background-color: #197db7;\n",
       "  color: #f1f1f1;\n",
       "}\n",
       "#T_f4b71_row0_col2 {\n",
       "  background-color: #056dac;\n",
       "  color: #f1f1f1;\n",
       "}\n",
       "#T_f4b71_row1_col0 {\n",
       "  background-color: #efe9f3;\n",
       "  color: #000000;\n",
       "}\n",
       "#T_f4b71_row1_col1 {\n",
       "  background-color: #d2d2e7;\n",
       "  color: #000000;\n",
       "}\n",
       "#T_f4b71_row1_col2 {\n",
       "  background-color: #e6e2ef;\n",
       "  color: #000000;\n",
       "}\n",
       "#T_f4b71_row2_col0, #T_f4b71_row2_col1, #T_f4b71_row2_col2 {\n",
       "  background-color: #fff7fb;\n",
       "  color: #000000;\n",
       "}\n",
       "#T_f4b71_row3_col0, #T_f4b71_row3_col1, #T_f4b71_row3_col2 {\n",
       "  background-color: #023858;\n",
       "  color: #f1f1f1;\n",
       "}\n",
       "</style>\n",
       "<table id=\"T_f4b71_\">\n",
       "  <thead>\n",
       "    <tr>\n",
       "      <th class=\"index_name level0\" >LeaveOrNot</th>\n",
       "      <th class=\"col_heading level0 col0\" >0</th>\n",
       "      <th class=\"col_heading level0 col1\" >1</th>\n",
       "      <th class=\"col_heading level0 col2\" >All</th>\n",
       "    </tr>\n",
       "    <tr>\n",
       "      <th class=\"index_name level0\" >Education</th>\n",
       "      <th class=\"blank col0\" >&nbsp;</th>\n",
       "      <th class=\"blank col1\" >&nbsp;</th>\n",
       "      <th class=\"blank col2\" >&nbsp;</th>\n",
       "    </tr>\n",
       "  </thead>\n",
       "  <tbody>\n",
       "    <tr>\n",
       "      <th id=\"T_f4b71_level0_row0\" class=\"row_heading level0 row0\" >Bachelors</th>\n",
       "      <td id=\"T_f4b71_row0_col0\" class=\"data row0 col0\" >2472</td>\n",
       "      <td id=\"T_f4b71_row0_col1\" class=\"data row0 col1\" >1129</td>\n",
       "      <td id=\"T_f4b71_row0_col2\" class=\"data row0 col2\" >3601</td>\n",
       "    </tr>\n",
       "    <tr>\n",
       "      <th id=\"T_f4b71_level0_row1\" class=\"row_heading level0 row1\" >Masters</th>\n",
       "      <td id=\"T_f4b71_row1_col0\" class=\"data row1 col0\" >447</td>\n",
       "      <td id=\"T_f4b71_row1_col1\" class=\"data row1 col1\" >426</td>\n",
       "      <td id=\"T_f4b71_row1_col2\" class=\"data row1 col2\" >873</td>\n",
       "    </tr>\n",
       "    <tr>\n",
       "      <th id=\"T_f4b71_level0_row2\" class=\"row_heading level0 row2\" >PHD</th>\n",
       "      <td id=\"T_f4b71_row2_col0\" class=\"data row2 col0\" >134</td>\n",
       "      <td id=\"T_f4b71_row2_col1\" class=\"data row2 col1\" >45</td>\n",
       "      <td id=\"T_f4b71_row2_col2\" class=\"data row2 col2\" >179</td>\n",
       "    </tr>\n",
       "    <tr>\n",
       "      <th id=\"T_f4b71_level0_row3\" class=\"row_heading level0 row3\" >All</th>\n",
       "      <td id=\"T_f4b71_row3_col0\" class=\"data row3 col0\" >3053</td>\n",
       "      <td id=\"T_f4b71_row3_col1\" class=\"data row3 col1\" >1600</td>\n",
       "      <td id=\"T_f4b71_row3_col2\" class=\"data row3 col2\" >4653</td>\n",
       "    </tr>\n",
       "  </tbody>\n",
       "</table>\n"
      ],
      "text/plain": [
       "<pandas.io.formats.style.Styler at 0x1ec5a13b190>"
      ]
     },
     "execution_count": 34,
     "metadata": {},
     "output_type": "execute_result"
    }
   ],
   "source": [
    "pd.crosstab(df['Education'],df['LeaveOrNot'],margins=True).style.background_gradient()"
   ]
  },
  {
   "cell_type": "code",
   "execution_count": 35,
   "id": "03279b66",
   "metadata": {},
   "outputs": [
    {
     "data": {
      "image/png": "[encoded data removed]",
      "text/plain": [
       "<Figure size 720x576 with 1 Axes>"
      ]
     },
     "metadata": {},
     "output_type": "display_data"
    }
   ],
   "source": [
    "ax = sns.countplot(data = df ,x='Education',hue='LeaveOrNot')\n",
    "percentage_hue(ax, df.Education, 3,2)"
   ]
  },
  {
   "cell_type": "markdown",
   "id": "3b3cba9e",
   "metadata": {},
   "source": [
    "### City Vs LeaveOrNot"
   ]
  },
  {
   "cell_type": "code",
   "execution_count": 36,
   "id": "4e38e4ed",
   "metadata": {},
   "outputs": [
    {
     "data": {
      "text/html": [
       "<style type=\"text/css\">\n",
       "#T_1c6d6_row0_col0 {\n",
       "  background-color: #96b6d7;\n",
       "  color: #000000;\n",
       "}\n",
       "#T_1c6d6_row0_col1 {\n",
       "  background-color: #dfddec;\n",
       "  color: #000000;\n",
       "}\n",
       "#T_1c6d6_row0_col2 {\n",
       "  background-color: #bdc8e1;\n",
       "  color: #000000;\n",
       "}\n",
       "#T_1c6d6_row1_col0 {\n",
       "  background-color: #f5eef6;\n",
       "  color: #000000;\n",
       "}\n",
       "#T_1c6d6_row1_col1, #T_1c6d6_row1_col2, #T_1c6d6_row2_col0 {\n",
       "  background-color: #fff7fb;\n",
       "  color: #000000;\n",
       "}\n",
       "#T_1c6d6_row2_col1 {\n",
       "  background-color: #d7d6e9;\n",
       "  color: #000000;\n",
       "}\n",
       "#T_1c6d6_row2_col2 {\n",
       "  background-color: #faf3f9;\n",
       "  color: #000000;\n",
       "}\n",
       "#T_1c6d6_row3_col0, #T_1c6d6_row3_col1, #T_1c6d6_row3_col2 {\n",
       "  background-color: #023858;\n",
       "  color: #f1f1f1;\n",
       "}\n",
       "</style>\n",
       "<table id=\"T_1c6d6_\">\n",
       "  <thead>\n",
       "    <tr>\n",
       "      <th class=\"index_name level0\" >LeaveOrNot</th>\n",
       "      <th class=\"col_heading level0 col0\" >0</th>\n",
       "      <th class=\"col_heading level0 col1\" >1</th>\n",
       "      <th class=\"col_heading level0 col2\" >All</th>\n",
       "    </tr>\n",
       "    <tr>\n",
       "      <th class=\"index_name level0\" >City</th>\n",
       "      <th class=\"blank col0\" >&nbsp;</th>\n",
       "      <th class=\"blank col1\" >&nbsp;</th>\n",
       "      <th class=\"blank col2\" >&nbsp;</th>\n",
       "    </tr>\n",
       "  </thead>\n",
       "  <tbody>\n",
       "    <tr>\n",
       "      <th id=\"T_1c6d6_level0_row0\" class=\"row_heading level0 row0\" >Bangalore</th>\n",
       "      <td id=\"T_1c6d6_row0_col0\" class=\"data row0 col0\" >1633</td>\n",
       "      <td id=\"T_1c6d6_row0_col1\" class=\"data row0 col1\" >595</td>\n",
       "      <td id=\"T_1c6d6_row0_col2\" class=\"data row0 col2\" >2228</td>\n",
       "    </tr>\n",
       "    <tr>\n",
       "      <th id=\"T_1c6d6_level0_row1\" class=\"row_heading level0 row1\" >New Delhi</th>\n",
       "      <td id=\"T_1c6d6_row1_col0\" class=\"data row1 col0\" >791</td>\n",
       "      <td id=\"T_1c6d6_row1_col1\" class=\"data row1 col1\" >366</td>\n",
       "      <td id=\"T_1c6d6_row1_col2\" class=\"data row1 col2\" >1157</td>\n",
       "    </tr>\n",
       "    <tr>\n",
       "      <th id=\"T_1c6d6_level0_row2\" class=\"row_heading level0 row2\" >Pune</th>\n",
       "      <td id=\"T_1c6d6_row2_col0\" class=\"data row2 col0\" >629</td>\n",
       "      <td id=\"T_1c6d6_row2_col1\" class=\"data row2 col1\" >639</td>\n",
       "      <td id=\"T_1c6d6_row2_col2\" class=\"data row2 col2\" >1268</td>\n",
       "    </tr>\n",
       "    <tr>\n",
       "      <th id=\"T_1c6d6_level0_row3\" class=\"row_heading level0 row3\" >All</th>\n",
       "      <td id=\"T_1c6d6_row3_col0\" class=\"data row3 col0\" >3053</td>\n",
       "      <td id=\"T_1c6d6_row3_col1\" class=\"data row3 col1\" >1600</td>\n",
       "      <td id=\"T_1c6d6_row3_col2\" class=\"data row3 col2\" >4653</td>\n",
       "    </tr>\n",
       "  </tbody>\n",
       "</table>\n"
      ],
      "text/plain": [
       "<pandas.io.formats.style.Styler at 0x1ec5a02d8b0>"
      ]
     },
     "execution_count": 36,
     "metadata": {},
     "output_type": "execute_result"
    }
   ],
   "source": [
    "pd.crosstab(df['City'],df['LeaveOrNot'],margins=True).style.background_gradient()"
   ]
  },
  {
   "cell_type": "code",
   "execution_count": 37,
   "id": "56df9c13",
   "metadata": {},
   "outputs": [
    {
     "data": {
      "image/png": "[encoded data removed]",
      "text/plain": [
       "<Figure size 720x576 with 1 Axes>"
      ]
     },
     "metadata": {},
     "output_type": "display_data"
    }
   ],
   "source": [
    "ax = sns.countplot(data = df ,x='City',hue='LeaveOrNot')\n",
    "percentage_hue(ax, df.City, 3,2)"
   ]
  },
  {
   "cell_type": "markdown",
   "id": "2b2f12e6",
   "metadata": {},
   "source": [
    "### Gender Vs LeaveOrNot"
   ]
  },
  {
   "cell_type": "code",
   "execution_count": 38,
   "id": "7d181644",
   "metadata": {},
   "outputs": [
    {
     "data": {
      "text/html": [
       "<style type=\"text/css\">\n",
       "#T_bbebe_row0_col0, #T_bbebe_row0_col2, #T_bbebe_row1_col1 {\n",
       "  background-color: #fff7fb;\n",
       "  color: #000000;\n",
       "}\n",
       "#T_bbebe_row0_col1 {\n",
       "  background-color: #dedcec;\n",
       "  color: #000000;\n",
       "}\n",
       "#T_bbebe_row1_col0 {\n",
       "  background-color: #6ba5cd;\n",
       "  color: #f1f1f1;\n",
       "}\n",
       "#T_bbebe_row1_col2 {\n",
       "  background-color: #b7c5df;\n",
       "  color: #000000;\n",
       "}\n",
       "#T_bbebe_row2_col0, #T_bbebe_row2_col1, #T_bbebe_row2_col2 {\n",
       "  background-color: #023858;\n",
       "  color: #f1f1f1;\n",
       "}\n",
       "</style>\n",
       "<table id=\"T_bbebe_\">\n",
       "  <thead>\n",
       "    <tr>\n",
       "      <th class=\"index_name level0\" >LeaveOrNot</th>\n",
       "      <th class=\"col_heading level0 col0\" >0</th>\n",
       "      <th class=\"col_heading level0 col1\" >1</th>\n",
       "      <th class=\"col_heading level0 col2\" >All</th>\n",
       "    </tr>\n",
       "    <tr>\n",
       "      <th class=\"index_name level0\" >Gender</th>\n",
       "      <th class=\"blank col0\" >&nbsp;</th>\n",
       "      <th class=\"blank col1\" >&nbsp;</th>\n",
       "      <th class=\"blank col2\" >&nbsp;</th>\n",
       "    </tr>\n",
       "  </thead>\n",
       "  <tbody>\n",
       "    <tr>\n",
       "      <th id=\"T_bbebe_level0_row0\" class=\"row_heading level0 row0\" >Female</th>\n",
       "      <td id=\"T_bbebe_row0_col0\" class=\"data row0 col0\" >991</td>\n",
       "      <td id=\"T_bbebe_row0_col1\" class=\"data row0 col1\" >884</td>\n",
       "      <td id=\"T_bbebe_row0_col2\" class=\"data row0 col2\" >1875</td>\n",
       "    </tr>\n",
       "    <tr>\n",
       "      <th id=\"T_bbebe_level0_row1\" class=\"row_heading level0 row1\" >Male</th>\n",
       "      <td id=\"T_bbebe_row1_col0\" class=\"data row1 col0\" >2062</td>\n",
       "      <td id=\"T_bbebe_row1_col1\" class=\"data row1 col1\" >716</td>\n",
       "      <td id=\"T_bbebe_row1_col2\" class=\"data row1 col2\" >2778</td>\n",
       "    </tr>\n",
       "    <tr>\n",
       "      <th id=\"T_bbebe_level0_row2\" class=\"row_heading level0 row2\" >All</th>\n",
       "      <td id=\"T_bbebe_row2_col0\" class=\"data row2 col0\" >3053</td>\n",
       "      <td id=\"T_bbebe_row2_col1\" class=\"data row2 col1\" >1600</td>\n",
       "      <td id=\"T_bbebe_row2_col2\" class=\"data row2 col2\" >4653</td>\n",
       "    </tr>\n",
       "  </tbody>\n",
       "</table>\n"
      ],
      "text/plain": [
       "<pandas.io.formats.style.Styler at 0x1ec59c06eb0>"
      ]
     },
     "execution_count": 38,
     "metadata": {},
     "output_type": "execute_result"
    }
   ],
   "source": [
    "pd.crosstab(df['Gender'],df['LeaveOrNot'],margins=True).style.background_gradient()"
   ]
  },
  {
   "cell_type": "code",
   "execution_count": 39,
   "id": "43c3354a",
   "metadata": {},
   "outputs": [
    {
     "data": {
      "image/png": "[encoded data removed]",
      "text/plain": [
       "<Figure size 720x576 with 1 Axes>"
      ]
     },
     "metadata": {},
     "output_type": "display_data"
    }
   ],
   "source": [
    "ax = sns.countplot(data = df ,x='Gender',hue='LeaveOrNot')\n",
    "percentage_hue(ax, df.Gender, 2,2)"
   ]
  },
  {
   "cell_type": "markdown",
   "id": "88b48b47",
   "metadata": {},
   "source": [
    "### EverBenched Vs LeaveOrNot"
   ]
  },
  {
   "cell_type": "code",
   "execution_count": 40,
   "id": "32c9abfd",
   "metadata": {},
   "outputs": [
    {
     "data": {
      "text/html": [
       "<style type=\"text/css\">\n",
       "#T_e8f23_row0_col0 {\n",
       "  background-color: #03517e;\n",
       "  color: #f1f1f1;\n",
       "}\n",
       "#T_e8f23_row0_col1 {\n",
       "  background-color: #046096;\n",
       "  color: #f1f1f1;\n",
       "}\n",
       "#T_e8f23_row0_col2 {\n",
       "  background-color: #045788;\n",
       "  color: #f1f1f1;\n",
       "}\n",
       "#T_e8f23_row1_col0, #T_e8f23_row1_col1, #T_e8f23_row1_col2 {\n",
       "  background-color: #fff7fb;\n",
       "  color: #000000;\n",
       "}\n",
       "#T_e8f23_row2_col0, #T_e8f23_row2_col1, #T_e8f23_row2_col2 {\n",
       "  background-color: #023858;\n",
       "  color: #f1f1f1;\n",
       "}\n",
       "</style>\n",
       "<table id=\"T_e8f23_\">\n",
       "  <thead>\n",
       "    <tr>\n",
       "      <th class=\"index_name level0\" >LeaveOrNot</th>\n",
       "      <th class=\"col_heading level0 col0\" >0</th>\n",
       "      <th class=\"col_heading level0 col1\" >1</th>\n",
       "      <th class=\"col_heading level0 col2\" >All</th>\n",
       "    </tr>\n",
       "    <tr>\n",
       "      <th class=\"index_name level0\" >EverBenched</th>\n",
       "      <th class=\"blank col0\" >&nbsp;</th>\n",
       "      <th class=\"blank col1\" >&nbsp;</th>\n",
       "      <th class=\"blank col2\" >&nbsp;</th>\n",
       "    </tr>\n",
       "  </thead>\n",
       "  <tbody>\n",
       "    <tr>\n",
       "      <th id=\"T_e8f23_level0_row0\" class=\"row_heading level0 row0\" >No</th>\n",
       "      <td id=\"T_e8f23_row0_col0\" class=\"data row0 col0\" >2792</td>\n",
       "      <td id=\"T_e8f23_row0_col1\" class=\"data row0 col1\" >1383</td>\n",
       "      <td id=\"T_e8f23_row0_col2\" class=\"data row0 col2\" >4175</td>\n",
       "    </tr>\n",
       "    <tr>\n",
       "      <th id=\"T_e8f23_level0_row1\" class=\"row_heading level0 row1\" >Yes</th>\n",
       "      <td id=\"T_e8f23_row1_col0\" class=\"data row1 col0\" >261</td>\n",
       "      <td id=\"T_e8f23_row1_col1\" class=\"data row1 col1\" >217</td>\n",
       "      <td id=\"T_e8f23_row1_col2\" class=\"data row1 col2\" >478</td>\n",
       "    </tr>\n",
       "    <tr>\n",
       "      <th id=\"T_e8f23_level0_row2\" class=\"row_heading level0 row2\" >All</th>\n",
       "      <td id=\"T_e8f23_row2_col0\" class=\"data row2 col0\" >3053</td>\n",
       "      <td id=\"T_e8f23_row2_col1\" class=\"data row2 col1\" >1600</td>\n",
       "      <td id=\"T_e8f23_row2_col2\" class=\"data row2 col2\" >4653</td>\n",
       "    </tr>\n",
       "  </tbody>\n",
       "</table>\n"
      ],
      "text/plain": [
       "<pandas.io.formats.style.Styler at 0x1ec59d3fe50>"
      ]
     },
     "execution_count": 40,
     "metadata": {},
     "output_type": "execute_result"
    }
   ],
   "source": [
    "pd.crosstab(df['EverBenched'],df['LeaveOrNot'],margins=True).style.background_gradient()"
   ]
  },
  {
   "cell_type": "code",
   "execution_count": 41,
   "id": "24cc8c84",
   "metadata": {},
   "outputs": [
    {
     "data": {
      "image/png": "[encoded data removed]",
      "text/plain": [
       "<Figure size 720x576 with 1 Axes>"
      ]
     },
     "metadata": {},
     "output_type": "display_data"
    }
   ],
   "source": [
    "ax = sns.countplot(data = df ,x='EverBenched',hue='LeaveOrNot')\n",
    "percentage_hue(ax, df.EverBenched, 2,2)"
   ]
  },
  {
   "cell_type": "markdown",
   "id": "92729dcd",
   "metadata": {},
   "source": [
    "# Bivariate Analysis - Numerical Features"
   ]
  },
  {
   "cell_type": "markdown",
   "id": "91b91c7e",
   "metadata": {},
   "source": [
    "### JoiningYear Vs LeaveOrNot"
   ]
  },
  {
   "cell_type": "code",
   "execution_count": 42,
   "id": "23b9afad",
   "metadata": {},
   "outputs": [
    {
     "data": {
      "text/html": [
       "<style type=\"text/css\">\n",
       "#T_9672f_row0_col0, #T_9672f_row5_col1 {\n",
       "  background-color: #ece7f2;\n",
       "  color: #000000;\n",
       "}\n",
       "#T_9672f_row0_col1, #T_9672f_row6_col0, #T_9672f_row6_col2 {\n",
       "  background-color: #fff7fb;\n",
       "  color: #000000;\n",
       "}\n",
       "#T_9672f_row0_col2 {\n",
       "  background-color: #faf3f9;\n",
       "  color: #000000;\n",
       "}\n",
       "#T_9672f_row1_col0 {\n",
       "  background-color: #e8e4f0;\n",
       "  color: #000000;\n",
       "}\n",
       "#T_9672f_row1_col1, #T_9672f_row2_col2 {\n",
       "  background-color: #f4edf6;\n",
       "  color: #000000;\n",
       "}\n",
       "#T_9672f_row1_col2 {\n",
       "  background-color: #f4eef6;\n",
       "  color: #000000;\n",
       "}\n",
       "#T_9672f_row2_col0, #T_9672f_row6_col1 {\n",
       "  background-color: #e2dfee;\n",
       "  color: #000000;\n",
       "}\n",
       "#T_9672f_row2_col1 {\n",
       "  background-color: #f9f2f8;\n",
       "  color: #000000;\n",
       "}\n",
       "#T_9672f_row3_col0 {\n",
       "  background-color: #e7e3f0;\n",
       "  color: #000000;\n",
       "}\n",
       "#T_9672f_row3_col1 {\n",
       "  background-color: #e9e5f1;\n",
       "  color: #000000;\n",
       "}\n",
       "#T_9672f_row3_col2 {\n",
       "  background-color: #f1ebf4;\n",
       "  color: #000000;\n",
       "}\n",
       "#T_9672f_row4_col0 {\n",
       "  background-color: #ebe6f2;\n",
       "  color: #000000;\n",
       "}\n",
       "#T_9672f_row4_col1 {\n",
       "  background-color: #fef6fb;\n",
       "  color: #000000;\n",
       "}\n",
       "#T_9672f_row4_col2 {\n",
       "  background-color: #faf2f8;\n",
       "  color: #000000;\n",
       "}\n",
       "#T_9672f_row5_col0 {\n",
       "  background-color: #cccfe5;\n",
       "  color: #000000;\n",
       "}\n",
       "#T_9672f_row5_col2 {\n",
       "  background-color: #e1dfed;\n",
       "  color: #000000;\n",
       "}\n",
       "#T_9672f_row7_col0, #T_9672f_row7_col1, #T_9672f_row7_col2 {\n",
       "  background-color: #023858;\n",
       "  color: #f1f1f1;\n",
       "}\n",
       "</style>\n",
       "<table id=\"T_9672f_\">\n",
       "  <thead>\n",
       "    <tr>\n",
       "      <th class=\"index_name level0\" >LeaveOrNot</th>\n",
       "      <th class=\"col_heading level0 col0\" >0</th>\n",
       "      <th class=\"col_heading level0 col1\" >1</th>\n",
       "      <th class=\"col_heading level0 col2\" >All</th>\n",
       "    </tr>\n",
       "    <tr>\n",
       "      <th class=\"index_name level0\" >JoiningYear</th>\n",
       "      <th class=\"blank col0\" >&nbsp;</th>\n",
       "      <th class=\"blank col1\" >&nbsp;</th>\n",
       "      <th class=\"blank col2\" >&nbsp;</th>\n",
       "    </tr>\n",
       "  </thead>\n",
       "  <tbody>\n",
       "    <tr>\n",
       "      <th id=\"T_9672f_level0_row0\" class=\"row_heading level0 row0\" >2012</th>\n",
       "      <td id=\"T_9672f_row0_col0\" class=\"data row0 col0\" >395</td>\n",
       "      <td id=\"T_9672f_row0_col1\" class=\"data row0 col1\" >109</td>\n",
       "      <td id=\"T_9672f_row0_col2\" class=\"data row0 col2\" >504</td>\n",
       "    </tr>\n",
       "    <tr>\n",
       "      <th id=\"T_9672f_level0_row1\" class=\"row_heading level0 row1\" >2013</th>\n",
       "      <td id=\"T_9672f_row1_col0\" class=\"data row1 col0\" >445</td>\n",
       "      <td id=\"T_9672f_row1_col1\" class=\"data row1 col1\" >224</td>\n",
       "      <td id=\"T_9672f_row1_col2\" class=\"data row1 col2\" >669</td>\n",
       "    </tr>\n",
       "    <tr>\n",
       "      <th id=\"T_9672f_level0_row2\" class=\"row_heading level0 row2\" >2014</th>\n",
       "      <td id=\"T_9672f_row2_col0\" class=\"data row2 col0\" >526</td>\n",
       "      <td id=\"T_9672f_row2_col1\" class=\"data row2 col1\" >173</td>\n",
       "      <td id=\"T_9672f_row2_col2\" class=\"data row2 col2\" >699</td>\n",
       "    </tr>\n",
       "    <tr>\n",
       "      <th id=\"T_9672f_level0_row3\" class=\"row_heading level0 row3\" >2015</th>\n",
       "      <td id=\"T_9672f_row3_col0\" class=\"data row3 col0\" >463</td>\n",
       "      <td id=\"T_9672f_row3_col1\" class=\"data row3 col1\" >318</td>\n",
       "      <td id=\"T_9672f_row3_col2\" class=\"data row3 col2\" >781</td>\n",
       "    </tr>\n",
       "    <tr>\n",
       "      <th id=\"T_9672f_level0_row4\" class=\"row_heading level0 row4\" >2016</th>\n",
       "      <td id=\"T_9672f_row4_col0\" class=\"data row4 col0\" >408</td>\n",
       "      <td id=\"T_9672f_row4_col1\" class=\"data row4 col1\" >117</td>\n",
       "      <td id=\"T_9672f_row4_col2\" class=\"data row4 col2\" >525</td>\n",
       "    </tr>\n",
       "    <tr>\n",
       "      <th id=\"T_9672f_level0_row5\" class=\"row_heading level0 row5\" >2017</th>\n",
       "      <td id=\"T_9672f_row5_col0\" class=\"data row5 col0\" >811</td>\n",
       "      <td id=\"T_9672f_row5_col1\" class=\"data row5 col1\" >297</td>\n",
       "      <td id=\"T_9672f_row5_col2\" class=\"data row5 col2\" >1108</td>\n",
       "    </tr>\n",
       "    <tr>\n",
       "      <th id=\"T_9672f_level0_row6\" class=\"row_heading level0 row6\" >2018</th>\n",
       "      <td id=\"T_9672f_row6_col0\" class=\"data row6 col0\" >5</td>\n",
       "      <td id=\"T_9672f_row6_col1\" class=\"data row6 col1\" >362</td>\n",
       "      <td id=\"T_9672f_row6_col2\" class=\"data row6 col2\" >367</td>\n",
       "    </tr>\n",
       "    <tr>\n",
       "      <th id=\"T_9672f_level0_row7\" class=\"row_heading level0 row7\" >All</th>\n",
       "      <td id=\"T_9672f_row7_col0\" class=\"data row7 col0\" >3053</td>\n",
       "      <td id=\"T_9672f_row7_col1\" class=\"data row7 col1\" >1600</td>\n",
       "      <td id=\"T_9672f_row7_col2\" class=\"data row7 col2\" >4653</td>\n",
       "    </tr>\n",
       "  </tbody>\n",
       "</table>\n"
      ],
      "text/plain": [
       "<pandas.io.formats.style.Styler at 0x1ec5a08c8e0>"
      ]
     },
     "execution_count": 42,
     "metadata": {},
     "output_type": "execute_result"
    }
   ],
   "source": [
    "pd.crosstab(df['JoiningYear'],df['LeaveOrNot'],margins=True).style.background_gradient()"
   ]
  },
  {
   "cell_type": "code",
   "execution_count": 43,
   "id": "34379372",
   "metadata": {},
   "outputs": [
    {
     "data": {
      "text/plain": [
       "<AxesSubplot:xlabel='JoiningYear', ylabel='count'>"
      ]
     },
     "execution_count": 43,
     "metadata": {},
     "output_type": "execute_result"
    },
    {
     "data": {
      "image/png": "[encoded data removed]",
      "text/plain": [
       "<Figure size 720x576 with 1 Axes>"
      ]
     },
     "metadata": {},
     "output_type": "display_data"
    }
   ],
   "source": [
    "sns.countplot(data = df ,x='JoiningYear',hue='LeaveOrNot')"
   ]
  },
  {
   "cell_type": "markdown",
   "id": "bda85cf3",
   "metadata": {},
   "source": [
    "### PaymentTier Vs LeaveOrNot"
   ]
  },
  {
   "cell_type": "code",
   "execution_count": 44,
   "id": "633eea98",
   "metadata": {},
   "outputs": [
    {
     "data": {
      "text/html": [
       "<style type=\"text/css\">\n",
       "#T_9f342_row0_col0 {\n",
       "  background-color: #04649d;\n",
       "  color: #f1f1f1;\n",
       "}\n",
       "#T_9f342_row0_col1 {\n",
       "  background-color: #4e9ac6;\n",
       "  color: #f1f1f1;\n",
       "}\n",
       "#T_9f342_row0_col2 {\n",
       "  background-color: #0a73b2;\n",
       "  color: #f1f1f1;\n",
       "}\n",
       "#T_9f342_row1_col0 {\n",
       "  background-color: #f4eef6;\n",
       "  color: #000000;\n",
       "}\n",
       "#T_9f342_row1_col1 {\n",
       "  background-color: #bdc8e1;\n",
       "  color: #000000;\n",
       "}\n",
       "#T_9f342_row1_col2 {\n",
       "  background-color: #e6e2ef;\n",
       "  color: #000000;\n",
       "}\n",
       "#T_9f342_row2_col0, #T_9f342_row2_col1, #T_9f342_row2_col2 {\n",
       "  background-color: #fff7fb;\n",
       "  color: #000000;\n",
       "}\n",
       "#T_9f342_row3_col0, #T_9f342_row3_col1, #T_9f342_row3_col2 {\n",
       "  background-color: #023858;\n",
       "  color: #f1f1f1;\n",
       "}\n",
       "</style>\n",
       "<table id=\"T_9f342_\">\n",
       "  <thead>\n",
       "    <tr>\n",
       "      <th class=\"index_name level0\" >LeaveOrNot</th>\n",
       "      <th class=\"col_heading level0 col0\" >0</th>\n",
       "      <th class=\"col_heading level0 col1\" >1</th>\n",
       "      <th class=\"col_heading level0 col2\" >All</th>\n",
       "    </tr>\n",
       "    <tr>\n",
       "      <th class=\"index_name level0\" >PaymentTier</th>\n",
       "      <th class=\"blank col0\" >&nbsp;</th>\n",
       "      <th class=\"blank col1\" >&nbsp;</th>\n",
       "      <th class=\"blank col2\" >&nbsp;</th>\n",
       "    </tr>\n",
       "  </thead>\n",
       "  <tbody>\n",
       "    <tr>\n",
       "      <th id=\"T_9f342_level0_row0\" class=\"row_heading level0 row0\" >0</th>\n",
       "      <td id=\"T_9f342_row0_col0\" class=\"data row0 col0\" >2531</td>\n",
       "      <td id=\"T_9f342_row0_col1\" class=\"data row0 col1\" >961</td>\n",
       "      <td id=\"T_9f342_row0_col2\" class=\"data row0 col2\" >3492</td>\n",
       "    </tr>\n",
       "    <tr>\n",
       "      <th id=\"T_9f342_level0_row1\" class=\"row_heading level0 row1\" >1</th>\n",
       "      <td id=\"T_9f342_row1_col0\" class=\"data row1 col0\" >368</td>\n",
       "      <td id=\"T_9f342_row1_col1\" class=\"data row1 col1\" >550</td>\n",
       "      <td id=\"T_9f342_row1_col2\" class=\"data row1 col2\" >918</td>\n",
       "    </tr>\n",
       "    <tr>\n",
       "      <th id=\"T_9f342_level0_row2\" class=\"row_heading level0 row2\" >2</th>\n",
       "      <td id=\"T_9f342_row2_col0\" class=\"data row2 col0\" >154</td>\n",
       "      <td id=\"T_9f342_row2_col1\" class=\"data row2 col1\" >89</td>\n",
       "      <td id=\"T_9f342_row2_col2\" class=\"data row2 col2\" >243</td>\n",
       "    </tr>\n",
       "    <tr>\n",
       "      <th id=\"T_9f342_level0_row3\" class=\"row_heading level0 row3\" >All</th>\n",
       "      <td id=\"T_9f342_row3_col0\" class=\"data row3 col0\" >3053</td>\n",
       "      <td id=\"T_9f342_row3_col1\" class=\"data row3 col1\" >1600</td>\n",
       "      <td id=\"T_9f342_row3_col2\" class=\"data row3 col2\" >4653</td>\n",
       "    </tr>\n",
       "  </tbody>\n",
       "</table>\n"
      ],
      "text/plain": [
       "<pandas.io.formats.style.Styler at 0x1ec5a1a7580>"
      ]
     },
     "execution_count": 44,
     "metadata": {},
     "output_type": "execute_result"
    }
   ],
   "source": [
    "pd.crosstab(df['PaymentTier'],df['LeaveOrNot'],margins=True).style.background_gradient()"
   ]
  },
  {
   "cell_type": "code",
   "execution_count": 45,
   "id": "5045a0dc",
   "metadata": {},
   "outputs": [
    {
     "data": {
      "image/png": "[encoded data removed]",
      "text/plain": [
       "<Figure size 720x576 with 1 Axes>"
      ]
     },
     "metadata": {},
     "output_type": "display_data"
    }
   ],
   "source": [
    "ax = sns.countplot(data = df ,x='PaymentTier',hue='LeaveOrNot')\n",
    "percentage_hue(ax, df.PaymentTier, 3,2)"
   ]
  },
  {
   "cell_type": "markdown",
   "id": "6fca2ad4",
   "metadata": {},
   "source": [
    "### Age Vs LeaveOrNot"
   ]
  },
  {
   "cell_type": "code",
   "execution_count": 46,
   "id": "51f19960",
   "metadata": {},
   "outputs": [
    {
     "data": {
      "text/html": [
       "<style type=\"text/css\">\n",
       "#T_b8b45_row0_col0, #T_b8b45_row0_col1, #T_b8b45_row0_col2, #T_b8b45_row1_col0, #T_b8b45_row1_col1, #T_b8b45_row1_col2 {\n",
       "  background-color: #fff7fb;\n",
       "  color: #000000;\n",
       "}\n",
       "#T_b8b45_row2_col0, #T_b8b45_row3_col0 {\n",
       "  background-color: #f5eef6;\n",
       "  color: #000000;\n",
       "}\n",
       "#T_b8b45_row2_col1 {\n",
       "  background-color: #f2ecf5;\n",
       "  color: #000000;\n",
       "}\n",
       "#T_b8b45_row2_col2 {\n",
       "  background-color: #f4eef6;\n",
       "  color: #000000;\n",
       "}\n",
       "#T_b8b45_row3_col1 {\n",
       "  background-color: #f0eaf4;\n",
       "  color: #000000;\n",
       "}\n",
       "#T_b8b45_row3_col2 {\n",
       "  background-color: #f3edf5;\n",
       "  color: #000000;\n",
       "}\n",
       "#T_b8b45_row4_col0, #T_b8b45_row4_col1, #T_b8b45_row4_col2, #T_b8b45_row5_col1 {\n",
       "  background-color: #ebe6f2;\n",
       "  color: #000000;\n",
       "}\n",
       "#T_b8b45_row5_col0 {\n",
       "  background-color: #ede7f2;\n",
       "  color: #000000;\n",
       "}\n",
       "#T_b8b45_row5_col2, #T_b8b45_row6_col2 {\n",
       "  background-color: #ece7f2;\n",
       "  color: #000000;\n",
       "}\n",
       "#T_b8b45_row6_col0 {\n",
       "  background-color: #e9e5f1;\n",
       "  color: #000000;\n",
       "}\n",
       "#T_b8b45_row6_col1 {\n",
       "  background-color: #efe9f3;\n",
       "  color: #000000;\n",
       "}\n",
       "#T_b8b45_row7_col0, #T_b8b45_row7_col2 {\n",
       "  background-color: #f9f2f8;\n",
       "  color: #000000;\n",
       "}\n",
       "#T_b8b45_row7_col1, #T_b8b45_row8_col0, #T_b8b45_row8_col1, #T_b8b45_row8_col2 {\n",
       "  background-color: #faf2f8;\n",
       "  color: #000000;\n",
       "}\n",
       "#T_b8b45_row9_col0, #T_b8b45_row9_col1, #T_b8b45_row9_col2, #T_b8b45_row10_col0, #T_b8b45_row10_col2, #T_b8b45_row11_col0, #T_b8b45_row11_col1, #T_b8b45_row11_col2, #T_b8b45_row12_col1, #T_b8b45_row12_col2, #T_b8b45_row13_col0, #T_b8b45_row13_col1, #T_b8b45_row13_col2, #T_b8b45_row14_col1, #T_b8b45_row15_col1, #T_b8b45_row16_col1, #T_b8b45_row16_col2, #T_b8b45_row17_col1, #T_b8b45_row17_col2, #T_b8b45_row18_col1, #T_b8b45_row18_col2 {\n",
       "  background-color: #fdf5fa;\n",
       "  color: #000000;\n",
       "}\n",
       "#T_b8b45_row10_col1 {\n",
       "  background-color: #fbf4f9;\n",
       "  color: #000000;\n",
       "}\n",
       "#T_b8b45_row12_col0, #T_b8b45_row14_col0, #T_b8b45_row14_col2, #T_b8b45_row15_col0, #T_b8b45_row15_col2, #T_b8b45_row16_col0, #T_b8b45_row17_col0, #T_b8b45_row18_col0 {\n",
       "  background-color: #fcf4fa;\n",
       "  color: #000000;\n",
       "}\n",
       "#T_b8b45_row19_col0 {\n",
       "  background-color: #fef6fa;\n",
       "  color: #000000;\n",
       "}\n",
       "#T_b8b45_row19_col1, #T_b8b45_row19_col2 {\n",
       "  background-color: #fef6fb;\n",
       "  color: #000000;\n",
       "}\n",
       "#T_b8b45_row20_col0, #T_b8b45_row20_col1, #T_b8b45_row20_col2 {\n",
       "  background-color: #023858;\n",
       "  color: #f1f1f1;\n",
       "}\n",
       "</style>\n",
       "<table id=\"T_b8b45_\">\n",
       "  <thead>\n",
       "    <tr>\n",
       "      <th class=\"index_name level0\" >LeaveOrNot</th>\n",
       "      <th class=\"col_heading level0 col0\" >0</th>\n",
       "      <th class=\"col_heading level0 col1\" >1</th>\n",
       "      <th class=\"col_heading level0 col2\" >All</th>\n",
       "    </tr>\n",
       "    <tr>\n",
       "      <th class=\"index_name level0\" >Age</th>\n",
       "      <th class=\"blank col0\" >&nbsp;</th>\n",
       "      <th class=\"blank col1\" >&nbsp;</th>\n",
       "      <th class=\"blank col2\" >&nbsp;</th>\n",
       "    </tr>\n",
       "  </thead>\n",
       "  <tbody>\n",
       "    <tr>\n",
       "      <th id=\"T_b8b45_level0_row0\" class=\"row_heading level0 row0\" >22</th>\n",
       "      <td id=\"T_b8b45_row0_col0\" class=\"data row0 col0\" >30</td>\n",
       "      <td id=\"T_b8b45_row0_col1\" class=\"data row0 col1\" >19</td>\n",
       "      <td id=\"T_b8b45_row0_col2\" class=\"data row0 col2\" >49</td>\n",
       "    </tr>\n",
       "    <tr>\n",
       "      <th id=\"T_b8b45_level0_row1\" class=\"row_heading level0 row1\" >23</th>\n",
       "      <td id=\"T_b8b45_row1_col0\" class=\"data row1 col0\" >32</td>\n",
       "      <td id=\"T_b8b45_row1_col1\" class=\"data row1 col1\" >16</td>\n",
       "      <td id=\"T_b8b45_row1_col2\" class=\"data row1 col2\" >48</td>\n",
       "    </tr>\n",
       "    <tr>\n",
       "      <th id=\"T_b8b45_level0_row2\" class=\"row_heading level0 row2\" >24</th>\n",
       "      <td id=\"T_b8b45_row2_col0\" class=\"data row2 col0\" >232</td>\n",
       "      <td id=\"T_b8b45_row2_col1\" class=\"data row2 col1\" >153</td>\n",
       "      <td id=\"T_b8b45_row2_col2\" class=\"data row2 col2\" >385</td>\n",
       "    </tr>\n",
       "    <tr>\n",
       "      <th id=\"T_b8b45_level0_row3\" class=\"row_heading level0 row3\" >25</th>\n",
       "      <td id=\"T_b8b45_row3_col0\" class=\"data row3 col0\" >242</td>\n",
       "      <td id=\"T_b8b45_row3_col1\" class=\"data row3 col1\" >176</td>\n",
       "      <td id=\"T_b8b45_row3_col2\" class=\"data row3 col2\" >418</td>\n",
       "    </tr>\n",
       "    <tr>\n",
       "      <th id=\"T_b8b45_level0_row4\" class=\"row_heading level0 row4\" >26</th>\n",
       "      <td id=\"T_b8b45_row4_col0\" class=\"data row4 col0\" >422</td>\n",
       "      <td id=\"T_b8b45_row4_col1\" class=\"data row4 col1\" >223</td>\n",
       "      <td id=\"T_b8b45_row4_col2\" class=\"data row4 col2\" >645</td>\n",
       "    </tr>\n",
       "    <tr>\n",
       "      <th id=\"T_b8b45_level0_row5\" class=\"row_heading level0 row5\" >27</th>\n",
       "      <td id=\"T_b8b45_row5_col0\" class=\"data row5 col0\" >399</td>\n",
       "      <td id=\"T_b8b45_row5_col1\" class=\"data row5 col1\" >226</td>\n",
       "      <td id=\"T_b8b45_row5_col2\" class=\"data row5 col2\" >625</td>\n",
       "    </tr>\n",
       "    <tr>\n",
       "      <th id=\"T_b8b45_level0_row6\" class=\"row_heading level0 row6\" >28</th>\n",
       "      <td id=\"T_b8b45_row6_col0\" class=\"data row6 col0\" >444</td>\n",
       "      <td id=\"T_b8b45_row6_col1\" class=\"data row6 col1\" >186</td>\n",
       "      <td id=\"T_b8b45_row6_col2\" class=\"data row6 col2\" >630</td>\n",
       "    </tr>\n",
       "    <tr>\n",
       "      <th id=\"T_b8b45_level0_row7\" class=\"row_heading level0 row7\" >29</th>\n",
       "      <td id=\"T_b8b45_row7_col0\" class=\"data row7 col0\" >155</td>\n",
       "      <td id=\"T_b8b45_row7_col1\" class=\"data row7 col1\" >75</td>\n",
       "      <td id=\"T_b8b45_row7_col2\" class=\"data row7 col2\" >230</td>\n",
       "    </tr>\n",
       "    <tr>\n",
       "      <th id=\"T_b8b45_level0_row8\" class=\"row_heading level0 row8\" >30</th>\n",
       "      <td id=\"T_b8b45_row8_col0\" class=\"data row8 col0\" >143</td>\n",
       "      <td id=\"T_b8b45_row8_col1\" class=\"data row8 col1\" >77</td>\n",
       "      <td id=\"T_b8b45_row8_col2\" class=\"data row8 col2\" >220</td>\n",
       "    </tr>\n",
       "    <tr>\n",
       "      <th id=\"T_b8b45_level0_row9\" class=\"row_heading level0 row9\" >31</th>\n",
       "      <td id=\"T_b8b45_row9_col0\" class=\"data row9 col0\" >88</td>\n",
       "      <td id=\"T_b8b45_row9_col1\" class=\"data row9 col1\" >37</td>\n",
       "      <td id=\"T_b8b45_row9_col2\" class=\"data row9 col2\" >125</td>\n",
       "    </tr>\n",
       "    <tr>\n",
       "      <th id=\"T_b8b45_level0_row10\" class=\"row_heading level0 row10\" >32</th>\n",
       "      <td id=\"T_b8b45_row10_col0\" class=\"data row10 col0\" >78</td>\n",
       "      <td id=\"T_b8b45_row10_col1\" class=\"data row10 col1\" >54</td>\n",
       "      <td id=\"T_b8b45_row10_col2\" class=\"data row10 col2\" >132</td>\n",
       "    </tr>\n",
       "    <tr>\n",
       "      <th id=\"T_b8b45_level0_row11\" class=\"row_heading level0 row11\" >33</th>\n",
       "      <td id=\"T_b8b45_row11_col0\" class=\"data row11 col0\" >84</td>\n",
       "      <td id=\"T_b8b45_row11_col1\" class=\"data row11 col1\" >40</td>\n",
       "      <td id=\"T_b8b45_row11_col2\" class=\"data row11 col2\" >124</td>\n",
       "    </tr>\n",
       "    <tr>\n",
       "      <th id=\"T_b8b45_level0_row12\" class=\"row_heading level0 row12\" >34</th>\n",
       "      <td id=\"T_b8b45_row12_col0\" class=\"data row12 col0\" >94</td>\n",
       "      <td id=\"T_b8b45_row12_col1\" class=\"data row12 col1\" >42</td>\n",
       "      <td id=\"T_b8b45_row12_col2\" class=\"data row12 col2\" >136</td>\n",
       "    </tr>\n",
       "    <tr>\n",
       "      <th id=\"T_b8b45_level0_row13\" class=\"row_heading level0 row13\" >35</th>\n",
       "      <td id=\"T_b8b45_row13_col0\" class=\"data row13 col0\" >78</td>\n",
       "      <td id=\"T_b8b45_row13_col1\" class=\"data row13 col1\" >45</td>\n",
       "      <td id=\"T_b8b45_row13_col2\" class=\"data row13 col2\" >123</td>\n",
       "    </tr>\n",
       "    <tr>\n",
       "      <th id=\"T_b8b45_level0_row14\" class=\"row_heading level0 row14\" >36</th>\n",
       "      <td id=\"T_b8b45_row14_col0\" class=\"data row14 col0\" >94</td>\n",
       "      <td id=\"T_b8b45_row14_col1\" class=\"data row14 col1\" >45</td>\n",
       "      <td id=\"T_b8b45_row14_col2\" class=\"data row14 col2\" >139</td>\n",
       "    </tr>\n",
       "    <tr>\n",
       "      <th id=\"T_b8b45_level0_row15\" class=\"row_heading level0 row15\" >37</th>\n",
       "      <td id=\"T_b8b45_row15_col0\" class=\"data row15 col0\" >98</td>\n",
       "      <td id=\"T_b8b45_row15_col1\" class=\"data row15 col1\" >43</td>\n",
       "      <td id=\"T_b8b45_row15_col2\" class=\"data row15 col2\" >141</td>\n",
       "    </tr>\n",
       "    <tr>\n",
       "      <th id=\"T_b8b45_level0_row16\" class=\"row_heading level0 row16\" >38</th>\n",
       "      <td id=\"T_b8b45_row16_col0\" class=\"data row16 col0\" >96</td>\n",
       "      <td id=\"T_b8b45_row16_col1\" class=\"data row16 col1\" >40</td>\n",
       "      <td id=\"T_b8b45_row16_col2\" class=\"data row16 col2\" >136</td>\n",
       "    </tr>\n",
       "    <tr>\n",
       "      <th id=\"T_b8b45_level0_row17\" class=\"row_heading level0 row17\" >39</th>\n",
       "      <td id=\"T_b8b45_row17_col0\" class=\"data row17 col0\" >92</td>\n",
       "      <td id=\"T_b8b45_row17_col1\" class=\"data row17 col1\" >39</td>\n",
       "      <td id=\"T_b8b45_row17_col2\" class=\"data row17 col2\" >131</td>\n",
       "    </tr>\n",
       "    <tr>\n",
       "      <th id=\"T_b8b45_level0_row18\" class=\"row_heading level0 row18\" >40</th>\n",
       "      <td id=\"T_b8b45_row18_col0\" class=\"data row18 col0\" >93</td>\n",
       "      <td id=\"T_b8b45_row18_col1\" class=\"data row18 col1\" >41</td>\n",
       "      <td id=\"T_b8b45_row18_col2\" class=\"data row18 col2\" >134</td>\n",
       "    </tr>\n",
       "    <tr>\n",
       "      <th id=\"T_b8b45_level0_row19\" class=\"row_heading level0 row19\" >41</th>\n",
       "      <td id=\"T_b8b45_row19_col0\" class=\"data row19 col0\" >59</td>\n",
       "      <td id=\"T_b8b45_row19_col1\" class=\"data row19 col1\" >23</td>\n",
       "      <td id=\"T_b8b45_row19_col2\" class=\"data row19 col2\" >82</td>\n",
       "    </tr>\n",
       "    <tr>\n",
       "      <th id=\"T_b8b45_level0_row20\" class=\"row_heading level0 row20\" >All</th>\n",
       "      <td id=\"T_b8b45_row20_col0\" class=\"data row20 col0\" >3053</td>\n",
       "      <td id=\"T_b8b45_row20_col1\" class=\"data row20 col1\" >1600</td>\n",
       "      <td id=\"T_b8b45_row20_col2\" class=\"data row20 col2\" >4653</td>\n",
       "    </tr>\n",
       "  </tbody>\n",
       "</table>\n"
      ],
      "text/plain": [
       "<pandas.io.formats.style.Styler at 0x1ec5a1a74f0>"
      ]
     },
     "execution_count": 46,
     "metadata": {},
     "output_type": "execute_result"
    }
   ],
   "source": [
    "pd.crosstab(df['Age'],df['LeaveOrNot'],margins=True).style.background_gradient()"
   ]
  },
  {
   "cell_type": "code",
   "execution_count": 47,
   "id": "833c0e6a",
   "metadata": {},
   "outputs": [
    {
     "data": {
      "text/plain": [
       "<AxesSubplot:xlabel='Age', ylabel='count'>"
      ]
     },
     "execution_count": 47,
     "metadata": {},
     "output_type": "execute_result"
    },
    {
     "data": {
      "image/png": "[encoded data removed]",
      "text/plain": [
       "<Figure size 720x576 with 1 Axes>"
      ]
     },
     "metadata": {},
     "output_type": "display_data"
    }
   ],
   "source": [
    "sns.countplot(data = df ,x='Age',hue='LeaveOrNot')"
   ]
  },
  {
   "cell_type": "markdown",
   "id": "9cf1e9ac",
   "metadata": {},
   "source": [
    "### ExperienceInCurrentDomain Vs LeaveOrNot"
   ]
  },
  {
   "cell_type": "code",
   "execution_count": 48,
   "id": "3b246e56",
   "metadata": {},
   "outputs": [
    {
     "data": {
      "text/html": [
       "<style type=\"text/css\">\n",
       "#T_329ff_row0_col0 {\n",
       "  background-color: #f4eef6;\n",
       "  color: #000000;\n",
       "}\n",
       "#T_329ff_row0_col1, #T_329ff_row0_col2 {\n",
       "  background-color: #f4edf6;\n",
       "  color: #000000;\n",
       "}\n",
       "#T_329ff_row1_col0, #T_329ff_row1_col2 {\n",
       "  background-color: #ede8f3;\n",
       "  color: #000000;\n",
       "}\n",
       "#T_329ff_row1_col1 {\n",
       "  background-color: #eee8f3;\n",
       "  color: #000000;\n",
       "}\n",
       "#T_329ff_row2_col0 {\n",
       "  background-color: #d6d6e9;\n",
       "  color: #000000;\n",
       "}\n",
       "#T_329ff_row2_col1 {\n",
       "  background-color: #d1d2e6;\n",
       "  color: #000000;\n",
       "}\n",
       "#T_329ff_row2_col2 {\n",
       "  background-color: #d4d4e8;\n",
       "  color: #000000;\n",
       "}\n",
       "#T_329ff_row3_col0 {\n",
       "  background-color: #e5e1ef;\n",
       "  color: #000000;\n",
       "}\n",
       "#T_329ff_row3_col1, #T_329ff_row4_col1 {\n",
       "  background-color: #dfddec;\n",
       "  color: #000000;\n",
       "}\n",
       "#T_329ff_row3_col2 {\n",
       "  background-color: #e3e0ee;\n",
       "  color: #000000;\n",
       "}\n",
       "#T_329ff_row4_col0, #T_329ff_row5_col0 {\n",
       "  background-color: #dad9ea;\n",
       "  color: #000000;\n",
       "}\n",
       "#T_329ff_row4_col2, #T_329ff_row5_col2 {\n",
       "  background-color: #dcdaeb;\n",
       "  color: #000000;\n",
       "}\n",
       "#T_329ff_row5_col1 {\n",
       "  background-color: #e0deed;\n",
       "  color: #000000;\n",
       "}\n",
       "#T_329ff_row6_col0, #T_329ff_row6_col1, #T_329ff_row6_col2, #T_329ff_row7_col0, #T_329ff_row7_col1, #T_329ff_row7_col2 {\n",
       "  background-color: #fff7fb;\n",
       "  color: #000000;\n",
       "}\n",
       "#T_329ff_row8_col0, #T_329ff_row8_col1, #T_329ff_row8_col2 {\n",
       "  background-color: #023858;\n",
       "  color: #f1f1f1;\n",
       "}\n",
       "</style>\n",
       "<table id=\"T_329ff_\">\n",
       "  <thead>\n",
       "    <tr>\n",
       "      <th class=\"index_name level0\" >LeaveOrNot</th>\n",
       "      <th class=\"col_heading level0 col0\" >0</th>\n",
       "      <th class=\"col_heading level0 col1\" >1</th>\n",
       "      <th class=\"col_heading level0 col2\" >All</th>\n",
       "    </tr>\n",
       "    <tr>\n",
       "      <th class=\"index_name level0\" >ExperienceInCurrentDomain</th>\n",
       "      <th class=\"blank col0\" >&nbsp;</th>\n",
       "      <th class=\"blank col1\" >&nbsp;</th>\n",
       "      <th class=\"blank col2\" >&nbsp;</th>\n",
       "    </tr>\n",
       "  </thead>\n",
       "  <tbody>\n",
       "    <tr>\n",
       "      <th id=\"T_329ff_level0_row0\" class=\"row_heading level0 row0\" >0</th>\n",
       "      <td id=\"T_329ff_row0_col0\" class=\"data row0 col0\" >231</td>\n",
       "      <td id=\"T_329ff_row0_col1\" class=\"data row0 col1\" >124</td>\n",
       "      <td id=\"T_329ff_row0_col2\" class=\"data row0 col2\" >355</td>\n",
       "    </tr>\n",
       "    <tr>\n",
       "      <th id=\"T_329ff_level0_row1\" class=\"row_heading level0 row1\" >1</th>\n",
       "      <td id=\"T_329ff_row1_col0\" class=\"data row1 col0\" >370</td>\n",
       "      <td id=\"T_329ff_row1_col1\" class=\"data row1 col1\" >188</td>\n",
       "      <td id=\"T_329ff_row1_col2\" class=\"data row1 col2\" >558</td>\n",
       "    </tr>\n",
       "    <tr>\n",
       "      <th id=\"T_329ff_level0_row2\" class=\"row_heading level0 row2\" >2</th>\n",
       "      <td id=\"T_329ff_row2_col0\" class=\"data row2 col0\" >688</td>\n",
       "      <td id=\"T_329ff_row2_col1\" class=\"data row2 col1\" >399</td>\n",
       "      <td id=\"T_329ff_row2_col2\" class=\"data row2 col2\" >1087</td>\n",
       "    </tr>\n",
       "    <tr>\n",
       "      <th id=\"T_329ff_level0_row3\" class=\"row_heading level0 row3\" >3</th>\n",
       "      <td id=\"T_329ff_row3_col0\" class=\"data row3 col0\" >487</td>\n",
       "      <td id=\"T_329ff_row3_col1\" class=\"data row3 col1\" >299</td>\n",
       "      <td id=\"T_329ff_row3_col2\" class=\"data row3 col2\" >786</td>\n",
       "    </tr>\n",
       "    <tr>\n",
       "      <th id=\"T_329ff_level0_row4\" class=\"row_heading level0 row4\" >4</th>\n",
       "      <td id=\"T_329ff_row4_col0\" class=\"data row4 col0\" >634</td>\n",
       "      <td id=\"T_329ff_row4_col1\" class=\"data row4 col1\" >297</td>\n",
       "      <td id=\"T_329ff_row4_col2\" class=\"data row4 col2\" >931</td>\n",
       "    </tr>\n",
       "    <tr>\n",
       "      <th id=\"T_329ff_level0_row5\" class=\"row_heading level0 row5\" >5</th>\n",
       "      <td id=\"T_329ff_row5_col0\" class=\"data row5 col0\" >631</td>\n",
       "      <td id=\"T_329ff_row5_col1\" class=\"data row5 col1\" >288</td>\n",
       "      <td id=\"T_329ff_row5_col2\" class=\"data row5 col2\" >919</td>\n",
       "    </tr>\n",
       "    <tr>\n",
       "      <th id=\"T_329ff_level0_row6\" class=\"row_heading level0 row6\" >6</th>\n",
       "      <td id=\"T_329ff_row6_col0\" class=\"data row6 col0\" >6</td>\n",
       "      <td id=\"T_329ff_row6_col1\" class=\"data row6 col1\" >2</td>\n",
       "      <td id=\"T_329ff_row6_col2\" class=\"data row6 col2\" >8</td>\n",
       "    </tr>\n",
       "    <tr>\n",
       "      <th id=\"T_329ff_level0_row7\" class=\"row_heading level0 row7\" >7</th>\n",
       "      <td id=\"T_329ff_row7_col0\" class=\"data row7 col0\" >6</td>\n",
       "      <td id=\"T_329ff_row7_col1\" class=\"data row7 col1\" >3</td>\n",
       "      <td id=\"T_329ff_row7_col2\" class=\"data row7 col2\" >9</td>\n",
       "    </tr>\n",
       "    <tr>\n",
       "      <th id=\"T_329ff_level0_row8\" class=\"row_heading level0 row8\" >All</th>\n",
       "      <td id=\"T_329ff_row8_col0\" class=\"data row8 col0\" >3053</td>\n",
       "      <td id=\"T_329ff_row8_col1\" class=\"data row8 col1\" >1600</td>\n",
       "      <td id=\"T_329ff_row8_col2\" class=\"data row8 col2\" >4653</td>\n",
       "    </tr>\n",
       "  </tbody>\n",
       "</table>\n"
      ],
      "text/plain": [
       "<pandas.io.formats.style.Styler at 0x1ec5a204490>"
      ]
     },
     "execution_count": 48,
     "metadata": {},
     "output_type": "execute_result"
    }
   ],
   "source": [
    "pd.crosstab(df['ExperienceInCurrentDomain'],df['LeaveOrNot'],margins=True).style.background_gradient()"
   ]
  },
  {
   "cell_type": "code",
   "execution_count": 49,
   "id": "f741c692",
   "metadata": {},
   "outputs": [
    {
     "data": {
      "text/plain": [
       "<AxesSubplot:xlabel='ExperienceInCurrentDomain', ylabel='count'>"
      ]
     },
     "execution_count": 49,
     "metadata": {},
     "output_type": "execute_result"
    },
    {
     "data": {
      "image/png": "[encoded data removed]",
      "text/plain": [
       "<Figure size 720x576 with 1 Axes>"
      ]
     },
     "metadata": {},
     "output_type": "display_data"
    }
   ],
   "source": [
    "sns.countplot(data = df ,x='ExperienceInCurrentDomain',hue='LeaveOrNot')"
   ]
  },
  {
   "cell_type": "markdown",
   "id": "acd3d7ad",
   "metadata": {},
   "source": [
    "## Correlation"
   ]
  },
  {
   "cell_type": "code",
   "execution_count": 50,
   "id": "d8d652ec",
   "metadata": {},
   "outputs": [
    {
     "data": {
      "text/html": [
       "<div>\n",
       "<style scoped>\n",
       "    .dataframe tbody tr th:only-of-type {\n",
       "        vertical-align: middle;\n",
       "    }\n",
       "\n",
       "    .dataframe tbody tr th {\n",
       "        vertical-align: top;\n",
       "    }\n",
       "\n",
       "    .dataframe thead th {\n",
       "        text-align: right;\n",
       "    }\n",
       "</style>\n",
       "<table border=\"1\" class=\"dataframe\">\n",
       "  <thead>\n",
       "    <tr style=\"text-align: right;\">\n",
       "      <th></th>\n",
       "      <th>JoiningYear</th>\n",
       "      <th>PaymentTier</th>\n",
       "      <th>Age</th>\n",
       "      <th>ExperienceInCurrentDomain</th>\n",
       "      <th>LeaveOrNot</th>\n",
       "    </tr>\n",
       "  </thead>\n",
       "  <tbody>\n",
       "    <tr>\n",
       "      <th>JoiningYear</th>\n",
       "      <td>1.000000</td>\n",
       "      <td>0.096078</td>\n",
       "      <td>0.013165</td>\n",
       "      <td>-0.036525</td>\n",
       "      <td>0.181705</td>\n",
       "    </tr>\n",
       "    <tr>\n",
       "      <th>PaymentTier</th>\n",
       "      <td>0.096078</td>\n",
       "      <td>1.000000</td>\n",
       "      <td>-0.007631</td>\n",
       "      <td>-0.018314</td>\n",
       "      <td>0.197638</td>\n",
       "    </tr>\n",
       "    <tr>\n",
       "      <th>Age</th>\n",
       "      <td>0.013165</td>\n",
       "      <td>-0.007631</td>\n",
       "      <td>1.000000</td>\n",
       "      <td>-0.134643</td>\n",
       "      <td>-0.051126</td>\n",
       "    </tr>\n",
       "    <tr>\n",
       "      <th>ExperienceInCurrentDomain</th>\n",
       "      <td>-0.036525</td>\n",
       "      <td>-0.018314</td>\n",
       "      <td>-0.134643</td>\n",
       "      <td>1.000000</td>\n",
       "      <td>-0.030504</td>\n",
       "    </tr>\n",
       "    <tr>\n",
       "      <th>LeaveOrNot</th>\n",
       "      <td>0.181705</td>\n",
       "      <td>0.197638</td>\n",
       "      <td>-0.051126</td>\n",
       "      <td>-0.030504</td>\n",
       "      <td>1.000000</td>\n",
       "    </tr>\n",
       "  </tbody>\n",
       "</table>\n",
       "</div>"
      ],
      "text/plain": [
       "                           JoiningYear  PaymentTier       Age  \\\n",
       "JoiningYear                   1.000000     0.096078  0.013165   \n",
       "PaymentTier                   0.096078     1.000000 -0.007631   \n",
       "Age                           0.013165    -0.007631  1.000000   \n",
       "ExperienceInCurrentDomain    -0.036525    -0.018314 -0.134643   \n",
       "LeaveOrNot                    0.181705     0.197638 -0.051126   \n",
       "\n",
       "                           ExperienceInCurrentDomain  LeaveOrNot  \n",
       "JoiningYear                                -0.036525    0.181705  \n",
       "PaymentTier                                -0.018314    0.197638  \n",
       "Age                                        -0.134643   -0.051126  \n",
       "ExperienceInCurrentDomain                   1.000000   -0.030504  \n",
       "LeaveOrNot                                 -0.030504    1.000000  "
      ]
     },
     "execution_count": 50,
     "metadata": {},
     "output_type": "execute_result"
    }
   ],
   "source": [
    "df.corr()"
   ]
  },
  {
   "cell_type": "code",
   "execution_count": 51,
   "id": "53a0828a",
   "metadata": {},
   "outputs": [
    {
     "data": {
      "image/png": "[encoded data removed]",
      "text/plain": [
       "<Figure size 1152x648 with 2 Axes>"
      ]
     },
     "metadata": {},
     "output_type": "display_data"
    }
   ],
   "source": [
    "plt.figure(figsize=(16,9))\n",
    "ax = sns.heatmap(df.corr(),annot = True)\n",
    "plt.show()"
   ]
  },
  {
   "cell_type": "markdown",
   "id": "5297a64a",
   "metadata": {},
   "source": [
    "# Catergorical Feature Encoding"
   ]
  },
  {
   "cell_type": "code",
   "execution_count": 52,
   "id": "7e712018",
   "metadata": {},
   "outputs": [
    {
     "data": {
      "text/html": [
       "<div>\n",
       "<style scoped>\n",
       "    .dataframe tbody tr th:only-of-type {\n",
       "        vertical-align: middle;\n",
       "    }\n",
       "\n",
       "    .dataframe tbody tr th {\n",
       "        vertical-align: top;\n",
       "    }\n",
       "\n",
       "    .dataframe thead th {\n",
       "        text-align: right;\n",
       "    }\n",
       "</style>\n",
       "<table border=\"1\" class=\"dataframe\">\n",
       "  <thead>\n",
       "    <tr style=\"text-align: right;\">\n",
       "      <th></th>\n",
       "      <th>Education</th>\n",
       "      <th>JoiningYear</th>\n",
       "      <th>PaymentTier</th>\n",
       "      <th>Age</th>\n",
       "      <th>ExperienceInCurrentDomain</th>\n",
       "      <th>LeaveOrNot</th>\n",
       "      <th>City_New Delhi</th>\n",
       "      <th>City_Pune</th>\n",
       "      <th>Gender_Male</th>\n",
       "      <th>EverBenched_Yes</th>\n",
       "    </tr>\n",
       "  </thead>\n",
       "  <tbody>\n",
       "    <tr>\n",
       "      <th>0</th>\n",
       "      <td>0</td>\n",
       "      <td>2017</td>\n",
       "      <td>0</td>\n",
       "      <td>34</td>\n",
       "      <td>0</td>\n",
       "      <td>0</td>\n",
       "      <td>0</td>\n",
       "      <td>0</td>\n",
       "      <td>1</td>\n",
       "      <td>0</td>\n",
       "    </tr>\n",
       "    <tr>\n",
       "      <th>1</th>\n",
       "      <td>0</td>\n",
       "      <td>2013</td>\n",
       "      <td>2</td>\n",
       "      <td>28</td>\n",
       "      <td>3</td>\n",
       "      <td>1</td>\n",
       "      <td>0</td>\n",
       "      <td>1</td>\n",
       "      <td>0</td>\n",
       "      <td>0</td>\n",
       "    </tr>\n",
       "    <tr>\n",
       "      <th>2</th>\n",
       "      <td>0</td>\n",
       "      <td>2014</td>\n",
       "      <td>0</td>\n",
       "      <td>38</td>\n",
       "      <td>2</td>\n",
       "      <td>0</td>\n",
       "      <td>1</td>\n",
       "      <td>0</td>\n",
       "      <td>0</td>\n",
       "      <td>0</td>\n",
       "    </tr>\n",
       "    <tr>\n",
       "      <th>3</th>\n",
       "      <td>1</td>\n",
       "      <td>2016</td>\n",
       "      <td>0</td>\n",
       "      <td>27</td>\n",
       "      <td>5</td>\n",
       "      <td>1</td>\n",
       "      <td>0</td>\n",
       "      <td>0</td>\n",
       "      <td>1</td>\n",
       "      <td>0</td>\n",
       "    </tr>\n",
       "    <tr>\n",
       "      <th>4</th>\n",
       "      <td>1</td>\n",
       "      <td>2017</td>\n",
       "      <td>0</td>\n",
       "      <td>24</td>\n",
       "      <td>2</td>\n",
       "      <td>1</td>\n",
       "      <td>0</td>\n",
       "      <td>1</td>\n",
       "      <td>1</td>\n",
       "      <td>1</td>\n",
       "    </tr>\n",
       "    <tr>\n",
       "      <th>...</th>\n",
       "      <td>...</td>\n",
       "      <td>...</td>\n",
       "      <td>...</td>\n",
       "      <td>...</td>\n",
       "      <td>...</td>\n",
       "      <td>...</td>\n",
       "      <td>...</td>\n",
       "      <td>...</td>\n",
       "      <td>...</td>\n",
       "      <td>...</td>\n",
       "    </tr>\n",
       "    <tr>\n",
       "      <th>4648</th>\n",
       "      <td>0</td>\n",
       "      <td>2013</td>\n",
       "      <td>0</td>\n",
       "      <td>26</td>\n",
       "      <td>4</td>\n",
       "      <td>0</td>\n",
       "      <td>0</td>\n",
       "      <td>0</td>\n",
       "      <td>0</td>\n",
       "      <td>0</td>\n",
       "    </tr>\n",
       "    <tr>\n",
       "      <th>4649</th>\n",
       "      <td>1</td>\n",
       "      <td>2013</td>\n",
       "      <td>1</td>\n",
       "      <td>37</td>\n",
       "      <td>2</td>\n",
       "      <td>1</td>\n",
       "      <td>0</td>\n",
       "      <td>1</td>\n",
       "      <td>1</td>\n",
       "      <td>0</td>\n",
       "    </tr>\n",
       "    <tr>\n",
       "      <th>4650</th>\n",
       "      <td>1</td>\n",
       "      <td>2018</td>\n",
       "      <td>0</td>\n",
       "      <td>27</td>\n",
       "      <td>5</td>\n",
       "      <td>1</td>\n",
       "      <td>1</td>\n",
       "      <td>0</td>\n",
       "      <td>1</td>\n",
       "      <td>0</td>\n",
       "    </tr>\n",
       "    <tr>\n",
       "      <th>4651</th>\n",
       "      <td>0</td>\n",
       "      <td>2012</td>\n",
       "      <td>0</td>\n",
       "      <td>30</td>\n",
       "      <td>2</td>\n",
       "      <td>0</td>\n",
       "      <td>0</td>\n",
       "      <td>0</td>\n",
       "      <td>1</td>\n",
       "      <td>1</td>\n",
       "    </tr>\n",
       "    <tr>\n",
       "      <th>4652</th>\n",
       "      <td>0</td>\n",
       "      <td>2015</td>\n",
       "      <td>0</td>\n",
       "      <td>33</td>\n",
       "      <td>4</td>\n",
       "      <td>0</td>\n",
       "      <td>0</td>\n",
       "      <td>0</td>\n",
       "      <td>1</td>\n",
       "      <td>1</td>\n",
       "    </tr>\n",
       "  </tbody>\n",
       "</table>\n",
       "<p>4653 rows × 10 columns</p>\n",
       "</div>"
      ],
      "text/plain": [
       "      Education  JoiningYear  PaymentTier  Age  ExperienceInCurrentDomain  \\\n",
       "0             0         2017            0   34                          0   \n",
       "1             0         2013            2   28                          3   \n",
       "2             0         2014            0   38                          2   \n",
       "3             1         2016            0   27                          5   \n",
       "4             1         2017            0   24                          2   \n",
       "...         ...          ...          ...  ...                        ...   \n",
       "4648          0         2013            0   26                          4   \n",
       "4649          1         2013            1   37                          2   \n",
       "4650          1         2018            0   27                          5   \n",
       "4651          0         2012            0   30                          2   \n",
       "4652          0         2015            0   33                          4   \n",
       "\n",
       "      LeaveOrNot  City_New Delhi  City_Pune  Gender_Male  EverBenched_Yes  \n",
       "0              0               0          0            1                0  \n",
       "1              1               0          1            0                0  \n",
       "2              0               1          0            0                0  \n",
       "3              1               0          0            1                0  \n",
       "4              1               0          1            1                1  \n",
       "...          ...             ...        ...          ...              ...  \n",
       "4648           0               0          0            0                0  \n",
       "4649           1               0          1            1                0  \n",
       "4650           1               1          0            1                0  \n",
       "4651           0               0          0            1                1  \n",
       "4652           0               0          0            1                1  \n",
       "\n",
       "[4653 rows x 10 columns]"
      ]
     },
     "execution_count": 52,
     "metadata": {},
     "output_type": "execute_result"
    }
   ],
   "source": [
    "df=pd.get_dummies(data=df,columns=['City', 'Gender','EverBenched'], drop_first=True)\n",
    "df['Education'] = pd.factorize(df[\"Education\"])[0] # changed categorical to numbers\n",
    "# df['City'] = pd.factorize(df[\"City\"])[0]\n",
    "# df['Senority'] = df[['ExperienceInCurrentDomain','Age']].apply(lambda x: 1 if x.ExperienceInCurrentDomain >= 3 else 0, axis=1).astype(np.uint8) # 0 : junior , 1: senior\n",
    "# df['isRecentEmployee'] = np.select([df['JoiningYear'] < 2017, df['JoiningYear'] >= 2017], [0, 1])\n",
    "df"
   ]
  },
  {
   "cell_type": "markdown",
   "id": "241b322c",
   "metadata": {},
   "source": [
    "## Feature Scaling"
   ]
  },
  {
   "cell_type": "code",
   "execution_count": 53,
   "id": "a22a22f7",
   "metadata": {},
   "outputs": [
    {
     "data": {
      "text/plain": [
       "StandardScaler()"
      ]
     },
     "execution_count": 53,
     "metadata": {},
     "output_type": "execute_result"
    }
   ],
   "source": [
    "scaler = StandardScaler()\n",
    "scaler.fit(df.drop('LeaveOrNot',axis = 1))"
   ]
  },
  {
   "cell_type": "code",
   "execution_count": 54,
   "id": "d47a600c",
   "metadata": {},
   "outputs": [
    {
     "data": {
      "text/html": [
       "<div>\n",
       "<style scoped>\n",
       "    .dataframe tbody tr th:only-of-type {\n",
       "        vertical-align: middle;\n",
       "    }\n",
       "\n",
       "    .dataframe tbody tr th {\n",
       "        vertical-align: top;\n",
       "    }\n",
       "\n",
       "    .dataframe thead th {\n",
       "        text-align: right;\n",
       "    }\n",
       "</style>\n",
       "<table border=\"1\" class=\"dataframe\">\n",
       "  <thead>\n",
       "    <tr style=\"text-align: right;\">\n",
       "      <th></th>\n",
       "      <th>Education</th>\n",
       "      <th>JoiningYear</th>\n",
       "      <th>PaymentTier</th>\n",
       "      <th>Age</th>\n",
       "      <th>ExperienceInCurrentDomain</th>\n",
       "      <th>City_New Delhi</th>\n",
       "      <th>City_Pune</th>\n",
       "      <th>Gender_Male</th>\n",
       "      <th>EverBenched_Yes</th>\n",
       "    </tr>\n",
       "  </thead>\n",
       "  <tbody>\n",
       "    <tr>\n",
       "      <th>0</th>\n",
       "      <td>-0.507731</td>\n",
       "      <td>1.039638</td>\n",
       "      <td>-0.537503</td>\n",
       "      <td>0.954645</td>\n",
       "      <td>-1.864901</td>\n",
       "      <td>-0.575282</td>\n",
       "      <td>-0.612041</td>\n",
       "      <td>0.821551</td>\n",
       "      <td>-0.338365</td>\n",
       "    </tr>\n",
       "    <tr>\n",
       "      <th>1</th>\n",
       "      <td>-0.507731</td>\n",
       "      <td>-1.107233</td>\n",
       "      <td>3.025177</td>\n",
       "      <td>-0.288732</td>\n",
       "      <td>0.060554</td>\n",
       "      <td>-0.575282</td>\n",
       "      <td>1.633878</td>\n",
       "      <td>-1.217210</td>\n",
       "      <td>-0.338365</td>\n",
       "    </tr>\n",
       "    <tr>\n",
       "      <th>2</th>\n",
       "      <td>-0.507731</td>\n",
       "      <td>-0.570515</td>\n",
       "      <td>-0.537503</td>\n",
       "      <td>1.783563</td>\n",
       "      <td>-0.581264</td>\n",
       "      <td>1.738277</td>\n",
       "      <td>-0.612041</td>\n",
       "      <td>-1.217210</td>\n",
       "      <td>-0.338365</td>\n",
       "    </tr>\n",
       "    <tr>\n",
       "      <th>3</th>\n",
       "      <td>1.411418</td>\n",
       "      <td>0.502921</td>\n",
       "      <td>-0.537503</td>\n",
       "      <td>-0.495961</td>\n",
       "      <td>1.344191</td>\n",
       "      <td>-0.575282</td>\n",
       "      <td>-0.612041</td>\n",
       "      <td>0.821551</td>\n",
       "      <td>-0.338365</td>\n",
       "    </tr>\n",
       "    <tr>\n",
       "      <th>4</th>\n",
       "      <td>1.411418</td>\n",
       "      <td>1.039638</td>\n",
       "      <td>-0.537503</td>\n",
       "      <td>-1.117650</td>\n",
       "      <td>-0.581264</td>\n",
       "      <td>-0.575282</td>\n",
       "      <td>1.633878</td>\n",
       "      <td>0.821551</td>\n",
       "      <td>2.955387</td>\n",
       "    </tr>\n",
       "  </tbody>\n",
       "</table>\n",
       "</div>"
      ],
      "text/plain": [
       "   Education  JoiningYear  PaymentTier       Age  ExperienceInCurrentDomain  \\\n",
       "0  -0.507731     1.039638    -0.537503  0.954645                  -1.864901   \n",
       "1  -0.507731    -1.107233     3.025177 -0.288732                   0.060554   \n",
       "2  -0.507731    -0.570515    -0.537503  1.783563                  -0.581264   \n",
       "3   1.411418     0.502921    -0.537503 -0.495961                   1.344191   \n",
       "4   1.411418     1.039638    -0.537503 -1.117650                  -0.581264   \n",
       "\n",
       "   City_New Delhi  City_Pune  Gender_Male  EverBenched_Yes  \n",
       "0       -0.575282  -0.612041     0.821551        -0.338365  \n",
       "1       -0.575282   1.633878    -1.217210        -0.338365  \n",
       "2        1.738277  -0.612041    -1.217210        -0.338365  \n",
       "3       -0.575282  -0.612041     0.821551        -0.338365  \n",
       "4       -0.575282   1.633878     0.821551         2.955387  "
      ]
     },
     "execution_count": 54,
     "metadata": {},
     "output_type": "execute_result"
    }
   ],
   "source": [
    "scaled_features = scaler.transform(df.drop('LeaveOrNot',axis = 1))\n",
    "df_feat = pd.DataFrame(scaled_features,columns = ['Education', 'JoiningYear', 'PaymentTier', 'Age', 'ExperienceInCurrentDomain',\n",
    "        'City_New Delhi', 'City_Pune', 'Gender_Male', 'EverBenched_Yes'])\n",
    "df_feat.head()"
   ]
  },
  {
   "cell_type": "markdown",
   "id": "98793d10",
   "metadata": {},
   "source": [
    "## Feature Selection and Data Splitting"
   ]
  },
  {
   "cell_type": "code",
   "execution_count": 55,
   "id": "1255efd7",
   "metadata": {},
   "outputs": [],
   "source": [
    "X = df_feat\n",
    "y = df['LeaveOrNot']\n",
    "X_train, X_test, y_train, y_test = train_test_split(X, y, test_size=0.2, random_state=2)"
   ]
  },
  {
   "cell_type": "markdown",
   "id": "a673d4aa",
   "metadata": {},
   "source": [
    "## Prediction of Employee LeavingOrNot using KNN"
   ]
  },
  {
   "cell_type": "code",
   "execution_count": 56,
   "id": "6c1e5a39",
   "metadata": {},
   "outputs": [
    {
     "data": {
      "text/plain": [
       "KNeighborsClassifier(n_neighbors=12)"
      ]
     },
     "execution_count": 56,
     "metadata": {},
     "output_type": "execute_result"
    }
   ],
   "source": [
    "knn = KNeighborsClassifier(n_neighbors = 12)\n",
    "knn.fit(X_train,y_train)"
   ]
  },
  {
   "cell_type": "code",
   "execution_count": 57,
   "id": "8d6e58c2",
   "metadata": {
    "scrolled": true
   },
   "outputs": [],
   "source": [
    "y_pred = knn.predict(X_test)"
   ]
  },
  {
   "cell_type": "code",
   "execution_count": 58,
   "id": "1a704f0d",
   "metadata": {},
   "outputs": [
    {
     "name": "stdout",
     "output_type": "stream",
     "text": [
      "              precision    recall  f1-score   support\n",
      "\n",
      "           0       0.82      0.95      0.88       638\n",
      "           1       0.83      0.55      0.66       293\n",
      "\n",
      "    accuracy                           0.82       931\n",
      "   macro avg       0.83      0.75      0.77       931\n",
      "weighted avg       0.82      0.82      0.81       931\n",
      "\n",
      "\n",
      "Accuracy score:  0.8238453276047261\n",
      "Precision score:  0.8307692307692308\n"
     ]
    }
   ],
   "source": [
    "test_model(y_test,y_pred)"
   ]
  },
  {
   "cell_type": "code",
   "execution_count": 59,
   "id": "50a0fe8b",
   "metadata": {},
   "outputs": [
    {
     "name": "stdout",
     "output_type": "stream",
     "text": [
      "[[605  33]\n",
      " [131 162]]\n"
     ]
    }
   ],
   "source": [
    "cf_matrix = confusion_matrix(y_test,y_pred)\n",
    "print(cf_matrix)"
   ]
  },
  {
   "cell_type": "code",
   "execution_count": 60,
   "id": "6184d0b9",
   "metadata": {},
   "outputs": [
    {
     "data": {
      "image/png": "[encoded data removed]",
      "text/plain": [
       "<Figure size 720x576 with 2 Axes>"
      ]
     },
     "metadata": {},
     "output_type": "display_data"
    }
   ],
   "source": [
    "ax = sns.heatmap(cf_matrix/np.sum(cf_matrix), annot=True, \n",
    "            fmt='.2%', cmap='Blues')\n",
    "\n",
    "ax.set_title('Seaborn Confusion Matrix KNN\\n\\n')\n",
    "ax.set_xlabel('\\nPredicted Values')\n",
    "ax.set_ylabel('Actual Values ');"
   ]
  },
  {
   "cell_type": "code",
   "execution_count": 61,
   "id": "5868e98e",
   "metadata": {},
   "outputs": [],
   "source": [
    "error_rate= []\n",
    "for i in range(1,40):\n",
    "    knn = KNeighborsClassifier(n_neighbors = i)\n",
    "    knn.fit(X_train,y_train)\n",
    "    pred_i = knn.predict(X_test)\n",
    "    error_rate.append(np.mean(pred_i != y_test))    "
   ]
  },
  {
   "cell_type": "code",
   "execution_count": 62,
   "id": "84a1737e",
   "metadata": {},
   "outputs": [
    {
     "data": {
      "text/plain": [
       "Text(0, 0.5, 'Error Rate')"
      ]
     },
     "execution_count": 62,
     "metadata": {},
     "output_type": "execute_result"
    },
    {
     "data": {
      "image/png": "[encoded data removed]",
      "text/plain": [
       "<Figure size 720x432 with 1 Axes>"
      ]
     },
     "metadata": {},
     "output_type": "display_data"
    }
   ],
   "source": [
    "plt.figure(figsize = (10,6))\n",
    "plt.plot(range(1,40),error_rate,color = 'blue',linestyle = '--',marker = 'o',markerfacecolor='red',markersize = 10)\n",
    "plt.title('Error Rate vs K')\n",
    "plt.xlabel('K')\n",
    "plt.ylabel('Error Rate')"
   ]
  },
  {
   "cell_type": "markdown",
   "id": "4d84f77d",
   "metadata": {},
   "source": [
    "## Prediction of Employee LeavingOrNot using DecisionTreeClassifier"
   ]
  },
  {
   "cell_type": "code",
   "execution_count": 63,
   "id": "04a51b8d",
   "metadata": {},
   "outputs": [
    {
     "name": "stdout",
     "output_type": "stream",
     "text": [
      "Fitting 10 folds for each of 36 candidates, totalling 360 fits\n",
      "{'criterion': 'entropy', 'max_depth': 8}\n",
      "Decision Tree Classifier score: 0.8492829138920118\n"
     ]
    }
   ],
   "source": [
    "model_dtc=DecisionTreeClassifier()\n",
    "parameters = {'criterion':['gini','entropy'],'max_depth':[4,5,6,7,8,9,10,11,12,15,20,30,40,50,70,90,120,150]}\n",
    "model_dtc_grid = GridSearchCV(model_dtc, parameters,cv=10,verbose=1,n_jobs=-1).fit(X_train,y_train)\n",
    "print(model_dtc_grid.best_params_)\n",
    "\n",
    "print('Decision Tree Classifier score:',model_dtc_grid.best_score_)"
   ]
  },
  {
   "cell_type": "code",
   "execution_count": 64,
   "id": "78c7060b",
   "metadata": {},
   "outputs": [],
   "source": [
    "dtc = DecisionTreeClassifier(criterion=\"entropy\", max_depth=8, random_state = 2)"
   ]
  },
  {
   "cell_type": "code",
   "execution_count": 65,
   "id": "1e52013a",
   "metadata": {},
   "outputs": [
    {
     "data": {
      "text/plain": [
       "DecisionTreeClassifier(criterion='entropy', max_depth=8, random_state=2)"
      ]
     },
     "execution_count": 65,
     "metadata": {},
     "output_type": "execute_result"
    }
   ],
   "source": [
    "dtc.fit(X_train,y_train)"
   ]
  },
  {
   "cell_type": "code",
   "execution_count": 66,
   "id": "a69e1998",
   "metadata": {},
   "outputs": [
    {
     "data": {
      "text/plain": [
       "0.8645889306824288"
      ]
     },
     "execution_count": 66,
     "metadata": {},
     "output_type": "execute_result"
    }
   ],
   "source": [
    "dtc.score(X_train, y_train)"
   ]
  },
  {
   "cell_type": "code",
   "execution_count": 67,
   "id": "a4135705",
   "metadata": {},
   "outputs": [],
   "source": [
    "y_pred = dtc.predict(X_test)"
   ]
  },
  {
   "cell_type": "code",
   "execution_count": 68,
   "id": "7d25debe",
   "metadata": {},
   "outputs": [
    {
     "name": "stdout",
     "output_type": "stream",
     "text": [
      "              precision    recall  f1-score   support\n",
      "\n",
      "           0       0.87      0.93      0.90       638\n",
      "           1       0.83      0.71      0.76       293\n",
      "\n",
      "    accuracy                           0.86       931\n",
      "   macro avg       0.85      0.82      0.83       931\n",
      "weighted avg       0.86      0.86      0.86       931\n",
      "\n",
      "\n",
      "Accuracy score:  0.8625134264232008\n",
      "Precision score:  0.8313253012048193\n"
     ]
    }
   ],
   "source": [
    "test_model(y_test,y_pred)"
   ]
  },
  {
   "cell_type": "code",
   "execution_count": 69,
   "id": "282a5b19",
   "metadata": {},
   "outputs": [
    {
     "name": "stdout",
     "output_type": "stream",
     "text": [
      "[[596  42]\n",
      " [ 86 207]]\n"
     ]
    }
   ],
   "source": [
    "cf_matrix = confusion_matrix(y_test,y_pred)\n",
    "print(cf_matrix)"
   ]
  },
  {
   "cell_type": "code",
   "execution_count": 70,
   "id": "19e1c53a",
   "metadata": {},
   "outputs": [
    {
     "data": {
      "image/png": "[encoded data removed]",
      "text/plain": [
       "<Figure size 720x576 with 2 Axes>"
      ]
     },
     "metadata": {},
     "output_type": "display_data"
    }
   ],
   "source": [
    "ax = sns.heatmap(cf_matrix/np.sum(cf_matrix), annot=True, \n",
    "            fmt='.2%', cmap='Blues')\n",
    "\n",
    "ax.set_title('Seaborn Confusion Matrix DecisionTreeClassifier\\n\\n')\n",
    "ax.set_xlabel('\\nPredicted Values')\n",
    "ax.set_ylabel('Actual Values ');"
   ]
  },
  {
   "cell_type": "markdown",
   "id": "3257d3b5",
   "metadata": {},
   "source": [
    "## Prediction of Employee LeavingOrNot using LogisticRegression"
   ]
  },
  {
   "cell_type": "code",
   "execution_count": 71,
   "id": "6c2a5ff0",
   "metadata": {},
   "outputs": [
    {
     "name": "stdout",
     "output_type": "stream",
     "text": [
      "Fitting 10 folds for each of 5 candidates, totalling 50 fits\n",
      "{'C': 0.8}\n",
      "Logistic Regression Train score: 0.7256851155292854\n",
      "Logistic Regression score: 0.7232739485139381\n"
     ]
    }
   ],
   "source": [
    "model_le=LogisticRegression(random_state=2)\n",
    "model_le.fit(X_train,y_train)\n",
    "parameters = {'C':[0.8,0.9,1,1.1,1.2]}\n",
    "model_le_grid = GridSearchCV(model_le, parameters,cv=10,verbose=1,n_jobs=-1).fit(X_train,y_train)\n",
    "print(model_le_grid.best_params_)\n",
    "\n",
    "print('Logistic Regression Train score:',model_le.score(X_train,y_train))\n",
    "print('Logistic Regression score:',model_le_grid.best_score_)"
   ]
  },
  {
   "cell_type": "code",
   "execution_count": 72,
   "id": "3daa38a9",
   "metadata": {},
   "outputs": [],
   "source": [
    "lrc = LogisticRegression(random_state = 2, C=0.8)"
   ]
  },
  {
   "cell_type": "code",
   "execution_count": 73,
   "id": "71ac9dc9",
   "metadata": {},
   "outputs": [
    {
     "data": {
      "text/plain": [
       "LogisticRegression(C=0.8, random_state=2)"
      ]
     },
     "execution_count": 73,
     "metadata": {},
     "output_type": "execute_result"
    }
   ],
   "source": [
    "lrc.fit(X_train,y_train)"
   ]
  },
  {
   "cell_type": "code",
   "execution_count": 74,
   "id": "8370f02b",
   "metadata": {},
   "outputs": [
    {
     "data": {
      "text/plain": [
       "0.7259537882858678"
      ]
     },
     "execution_count": 74,
     "metadata": {},
     "output_type": "execute_result"
    }
   ],
   "source": [
    "lrc.score(X_train, y_train)"
   ]
  },
  {
   "cell_type": "code",
   "execution_count": 75,
   "id": "0612e7c1",
   "metadata": {},
   "outputs": [],
   "source": [
    "y_pred = lrc.predict(X_test)"
   ]
  },
  {
   "cell_type": "code",
   "execution_count": 76,
   "id": "94c4f049",
   "metadata": {},
   "outputs": [
    {
     "name": "stdout",
     "output_type": "stream",
     "text": [
      "              precision    recall  f1-score   support\n",
      "\n",
      "           0       0.77      0.90      0.83       638\n",
      "           1       0.67      0.43      0.52       293\n",
      "\n",
      "    accuracy                           0.75       931\n",
      "   macro avg       0.72      0.66      0.68       931\n",
      "weighted avg       0.74      0.75      0.74       931\n",
      "\n",
      "\n",
      "Accuracy score:  0.7529538131041891\n",
      "Precision score:  0.6684491978609626\n"
     ]
    }
   ],
   "source": [
    "test_model(y_test,y_pred)"
   ]
  },
  {
   "cell_type": "code",
   "execution_count": 77,
   "id": "ad0dbb20",
   "metadata": {},
   "outputs": [
    {
     "name": "stdout",
     "output_type": "stream",
     "text": [
      "[[576  62]\n",
      " [168 125]]\n"
     ]
    }
   ],
   "source": [
    "cf_matrix = confusion_matrix(y_test,y_pred)\n",
    "print(cf_matrix)"
   ]
  },
  {
   "cell_type": "code",
   "execution_count": 78,
   "id": "ca436863",
   "metadata": {},
   "outputs": [
    {
     "data": {
      "image/png": "[encoded data removed]",
      "text/plain": [
       "<Figure size 720x576 with 2 Axes>"
      ]
     },
     "metadata": {},
     "output_type": "display_data"
    }
   ],
   "source": [
    "ax = sns.heatmap(cf_matrix/np.sum(cf_matrix), annot=True, \n",
    "            fmt='.2%', cmap='Blues')\n",
    "\n",
    "ax.set_title('Seaborn Confusion Matrix LogisticRegression\\n\\n')\n",
    "ax.set_xlabel('\\nPredicted Values')\n",
    "ax.set_ylabel('Actual Values ');"
   ]
  },
  {
   "cell_type": "markdown",
   "id": "61d4207e",
   "metadata": {},
   "source": [
    "## Prediction of Employee LeavingOrNot using RandomForestClassifier"
   ]
  },
  {
   "cell_type": "code",
   "execution_count": 79,
   "id": "54868a07",
   "metadata": {},
   "outputs": [
    {
     "name": "stdout",
     "output_type": "stream",
     "text": [
      "Fitting 10 folds for each of 20 candidates, totalling 200 fits\n",
      "{'max_depth': 6, 'n_estimators': 300}\n",
      "Random Forest Classifier score: 0.8449854420709736\n"
     ]
    }
   ],
   "source": [
    "model_rfc=RandomForestClassifier(n_jobs=-1)\n",
    "parameters = {'n_estimators':[50,100,200,300,400],'max_depth':[3,4,5,6]}\n",
    "model_rfc_grid = GridSearchCV(model_rfc, parameters,cv=10,verbose=1,n_jobs=-1).fit(X_train,y_train)\n",
    "print(model_rfc_grid.best_params_)\n",
    "\n",
    "print('Random Forest Classifier score:',model_rfc_grid.best_score_)"
   ]
  },
  {
   "cell_type": "code",
   "execution_count": 80,
   "id": "430328f2",
   "metadata": {},
   "outputs": [],
   "source": [
    "rfc = RandomForestClassifier(n_estimators=400, random_state=2,max_depth=6)"
   ]
  },
  {
   "cell_type": "code",
   "execution_count": 81,
   "id": "6c5475c2",
   "metadata": {},
   "outputs": [
    {
     "data": {
      "text/plain": [
       "RandomForestClassifier(max_depth=6, n_estimators=400, random_state=2)"
      ]
     },
     "execution_count": 81,
     "metadata": {},
     "output_type": "execute_result"
    }
   ],
   "source": [
    "rfc.fit(X_train,y_train)"
   ]
  },
  {
   "cell_type": "code",
   "execution_count": 82,
   "id": "83b5fa7b",
   "metadata": {},
   "outputs": [
    {
     "data": {
      "text/plain": [
       "0.8514239656098872"
      ]
     },
     "execution_count": 82,
     "metadata": {},
     "output_type": "execute_result"
    }
   ],
   "source": [
    "rfc.score(X_train,y_train)"
   ]
  },
  {
   "cell_type": "code",
   "execution_count": 83,
   "id": "cf9ba7c5",
   "metadata": {},
   "outputs": [],
   "source": [
    "y_pred = rfc.predict(X_test)"
   ]
  },
  {
   "cell_type": "code",
   "execution_count": 84,
   "id": "1fdeb74b",
   "metadata": {
    "scrolled": true
   },
   "outputs": [
    {
     "name": "stdout",
     "output_type": "stream",
     "text": [
      "              precision    recall  f1-score   support\n",
      "\n",
      "           0       0.84      0.98      0.90       638\n",
      "           1       0.93      0.60      0.73       293\n",
      "\n",
      "    accuracy                           0.86       931\n",
      "   macro avg       0.88      0.79      0.82       931\n",
      "weighted avg       0.87      0.86      0.85       931\n",
      "\n",
      "\n",
      "Accuracy score:  0.8582169709989259\n",
      "Precision score:  0.9259259259259259\n"
     ]
    }
   ],
   "source": [
    "test_model(y_test,y_pred)"
   ]
  },
  {
   "cell_type": "code",
   "execution_count": 85,
   "id": "edaf623e",
   "metadata": {},
   "outputs": [
    {
     "name": "stdout",
     "output_type": "stream",
     "text": [
      "[[624  14]\n",
      " [118 175]]\n"
     ]
    }
   ],
   "source": [
    "cf_matrix = confusion_matrix(y_test,y_pred)\n",
    "print(cf_matrix)"
   ]
  },
  {
   "cell_type": "code",
   "execution_count": 86,
   "id": "97656a08",
   "metadata": {},
   "outputs": [
    {
     "data": {
      "image/png": "[encoded data removed]",
      "text/plain": [
       "<Figure size 720x576 with 2 Axes>"
      ]
     },
     "metadata": {},
     "output_type": "display_data"
    }
   ],
   "source": [
    "ax = sns.heatmap(cf_matrix/np.sum(cf_matrix), annot=True, \n",
    "            fmt='.2%', cmap='Blues')\n",
    "\n",
    "ax.set_title('Seaborn Confusion Matrix RandomForestClassifier\\n\\n')\n",
    "ax.set_xlabel('\\nPredicted Values')\n",
    "ax.set_ylabel('Actual Values ');"
   ]
  },
  {
   "cell_type": "markdown",
   "id": "f492d2d6",
   "metadata": {},
   "source": [
    "## Prediction of Employee LeavingOrNot using AdaBoostClassifier"
   ]
  },
  {
   "cell_type": "code",
   "execution_count": 87,
   "id": "6b61e3f6",
   "metadata": {},
   "outputs": [
    {
     "name": "stdout",
     "output_type": "stream",
     "text": [
      "Fitting 10 folds for each of 56 candidates, totalling 560 fits\n",
      "{'learning_rate': 1, 'n_estimators': 180}\n",
      "Ada Boost Classifier score: 0.7952758799619476\n"
     ]
    }
   ],
   "source": [
    "model_abc=AdaBoostClassifier()\n",
    "parameters = {'n_estimators' : [50, 70, 90, 120, 180, 200, 500, 1000],'learning_rate' : [0.001, 0.01, 0.05, 0.5, 0.1, 1, 10]}\n",
    "model_abc_grid = GridSearchCV(model_abc, parameters, n_jobs = -1, cv = 10, verbose = 1).fit(X_train,y_train)\n",
    "print(model_abc_grid.best_params_)\n",
    "\n",
    "print('Ada Boost Classifier score:',model_abc_grid.best_score_)"
   ]
  },
  {
   "cell_type": "code",
   "execution_count": 88,
   "id": "038dc38a",
   "metadata": {},
   "outputs": [],
   "source": [
    "abc = AdaBoostClassifier(learning_rate= 1, n_estimators= 180, random_state=2)"
   ]
  },
  {
   "cell_type": "code",
   "execution_count": 89,
   "id": "e2b408a1",
   "metadata": {},
   "outputs": [
    {
     "data": {
      "text/plain": [
       "AdaBoostClassifier(learning_rate=1, n_estimators=180, random_state=2)"
      ]
     },
     "execution_count": 89,
     "metadata": {},
     "output_type": "execute_result"
    }
   ],
   "source": [
    "abc.fit(X_train,y_train)"
   ]
  },
  {
   "cell_type": "code",
   "execution_count": 90,
   "id": "541b5c61",
   "metadata": {},
   "outputs": [
    {
     "data": {
      "text/plain": [
       "0.7982267598065557"
      ]
     },
     "execution_count": 90,
     "metadata": {},
     "output_type": "execute_result"
    }
   ],
   "source": [
    "abc.score(X_train, y_train)"
   ]
  },
  {
   "cell_type": "code",
   "execution_count": 91,
   "id": "43c41427",
   "metadata": {},
   "outputs": [],
   "source": [
    "y_pred = abc.predict(X_test)"
   ]
  },
  {
   "cell_type": "code",
   "execution_count": 92,
   "id": "199abede",
   "metadata": {
    "scrolled": true
   },
   "outputs": [
    {
     "name": "stdout",
     "output_type": "stream",
     "text": [
      "              precision    recall  f1-score   support\n",
      "\n",
      "           0       0.82      0.94      0.87       638\n",
      "           1       0.80      0.55      0.65       293\n",
      "\n",
      "    accuracy                           0.81       931\n",
      "   macro avg       0.81      0.74      0.76       931\n",
      "weighted avg       0.81      0.81      0.80       931\n",
      "\n",
      "\n",
      "Accuracy score:  0.8131041890440387\n",
      "Precision score:  0.7960199004975125\n"
     ]
    }
   ],
   "source": [
    "test_model(y_test,y_pred)"
   ]
  },
  {
   "cell_type": "code",
   "execution_count": 93,
   "id": "383c37bb",
   "metadata": {},
   "outputs": [
    {
     "name": "stdout",
     "output_type": "stream",
     "text": [
      "[[597  41]\n",
      " [133 160]]\n"
     ]
    }
   ],
   "source": [
    "cf_matrix = confusion_matrix(y_test,y_pred)\n",
    "print(cf_matrix)"
   ]
  },
  {
   "cell_type": "code",
   "execution_count": 94,
   "id": "59a942f1",
   "metadata": {},
   "outputs": [
    {
     "data": {
      "image/png": "[encoded data removed]",
      "text/plain": [
       "<Figure size 720x576 with 2 Axes>"
      ]
     },
     "metadata": {},
     "output_type": "display_data"
    }
   ],
   "source": [
    "ax = sns.heatmap(cf_matrix/np.sum(cf_matrix), annot=True, \n",
    "            fmt='.2%', cmap='Blues')\n",
    "\n",
    "ax.set_title('Seaborn Confusion Matrix AdaBoostClassifier\\n\\n')\n",
    "ax.set_xlabel('\\nPredicted Values')\n",
    "ax.set_ylabel('Actual Values ');"
   ]
  },
  {
   "cell_type": "markdown",
   "id": "05d05651",
   "metadata": {},
   "source": [
    "## Prediction of Employee LeavingOrNot using BaggingClassifier"
   ]
  },
  {
   "cell_type": "code",
   "execution_count": 95,
   "id": "36651bfa",
   "metadata": {},
   "outputs": [
    {
     "name": "stdout",
     "output_type": "stream",
     "text": [
      "Fitting 10 folds for each of 63 candidates, totalling 630 fits\n",
      "{'max_features': 0.7, 'max_samples': 0.7, 'n_estimators': 100}\n",
      "Bagging Classifier score: 0.8369266914583875\n"
     ]
    }
   ],
   "source": [
    "model_bc=BaggingClassifier()\n",
    "parameters = {'n_estimators': [2, 5, 10, 15, 20, 50, 100] ,'max_features': [0.5, 0.7, 1.0],'max_samples': [0.5, 0.7, 1.0]}\n",
    "model_bc_grid = GridSearchCV(model_bc, parameters, n_jobs = -1, cv = 10, verbose = 1).fit(X_train,y_train)\n",
    "print(model_bc_grid.best_params_)\n",
    "\n",
    "print('Bagging Classifier score:',model_bc_grid.best_score_)"
   ]
  },
  {
   "cell_type": "code",
   "execution_count": 96,
   "id": "43ac9da2",
   "metadata": {},
   "outputs": [],
   "source": [
    "bc = BaggingClassifier(max_features= 0.7, max_samples= 0.5, n_estimators= 100, random_state=2)"
   ]
  },
  {
   "cell_type": "code",
   "execution_count": 97,
   "id": "1783bc73",
   "metadata": {},
   "outputs": [
    {
     "data": {
      "text/plain": [
       "BaggingClassifier(max_features=0.7, max_samples=0.5, n_estimators=100,\n",
       "                  random_state=2)"
      ]
     },
     "execution_count": 97,
     "metadata": {},
     "output_type": "execute_result"
    }
   ],
   "source": [
    "bc.fit(X_train,y_train)"
   ]
  },
  {
   "cell_type": "code",
   "execution_count": 98,
   "id": "48a79236",
   "metadata": {},
   "outputs": [
    {
     "data": {
      "text/plain": [
       "0.884739387426115"
      ]
     },
     "execution_count": 98,
     "metadata": {},
     "output_type": "execute_result"
    }
   ],
   "source": [
    "bc.score(X_train, y_train)"
   ]
  },
  {
   "cell_type": "code",
   "execution_count": 99,
   "id": "d103fcf4",
   "metadata": {},
   "outputs": [],
   "source": [
    "y_pred = bc.predict(X_test)"
   ]
  },
  {
   "cell_type": "code",
   "execution_count": 100,
   "id": "4a1cf66c",
   "metadata": {},
   "outputs": [
    {
     "name": "stdout",
     "output_type": "stream",
     "text": [
      "              precision    recall  f1-score   support\n",
      "\n",
      "           0       0.85      0.97      0.91       638\n",
      "           1       0.92      0.63      0.75       293\n",
      "\n",
      "    accuracy                           0.87       931\n",
      "   macro avg       0.88      0.80      0.83       931\n",
      "weighted avg       0.87      0.87      0.86       931\n",
      "\n",
      "\n",
      "Accuracy score:  0.8668098818474759\n",
      "Precision score:  0.916256157635468\n"
     ]
    }
   ],
   "source": [
    "test_model(y_test,y_pred)"
   ]
  },
  {
   "cell_type": "code",
   "execution_count": 101,
   "id": "6bc4e6e9",
   "metadata": {},
   "outputs": [
    {
     "name": "stdout",
     "output_type": "stream",
     "text": [
      "[[621  17]\n",
      " [107 186]]\n"
     ]
    }
   ],
   "source": [
    "cf_matrix = confusion_matrix(y_test,y_pred)\n",
    "print(cf_matrix)"
   ]
  },
  {
   "cell_type": "code",
   "execution_count": 102,
   "id": "650a72fb",
   "metadata": {},
   "outputs": [
    {
     "data": {
      "image/png": "[encoded data removed]",
      "text/plain": [
       "<Figure size 720x576 with 2 Axes>"
      ]
     },
     "metadata": {},
     "output_type": "display_data"
    }
   ],
   "source": [
    "ax = sns.heatmap(cf_matrix/np.sum(cf_matrix), annot=True, \n",
    "            fmt='.2%', cmap='Blues')\n",
    "\n",
    "ax.set_title('Seaborn Confusion Matrix BaggingClassifier\\n\\n')\n",
    "ax.set_xlabel('\\nPredicted Values')\n",
    "ax.set_ylabel('Actual Values ');"
   ]
  },
  {
   "cell_type": "markdown",
   "id": "031ba8a1",
   "metadata": {},
   "source": [
    "## Prediction of Employee LeavingOrNot using SupportVectorClassifier"
   ]
  },
  {
   "cell_type": "code",
   "execution_count": 103,
   "id": "4af151ce",
   "metadata": {},
   "outputs": [
    {
     "name": "stdout",
     "output_type": "stream",
     "text": [
      "Fitting 10 folds for each of 60 candidates, totalling 600 fits\n",
      "{'C': 1.2, 'degree': 3, 'kernel': 'rbf'}\n",
      "Support Vecktor Classification score: 0.8280622099224537\n"
     ]
    }
   ],
   "source": [
    "model_svc=SVC(random_state=2)\n",
    "parameters = {'kernel':('linear', 'rbf','poly'), 'C':[0.8,0.9,1,1.1,1.2],'degree':[3,4,5,6]}\n",
    "model_svc_grid = GridSearchCV(model_svc, parameters,cv=10,verbose=1,n_jobs=-1).fit(X_train,y_train)\n",
    "print(model_svc_grid.best_params_)\n",
    "\n",
    "\n",
    "print('Support Vecktor Classification score:',model_svc_grid.best_score_)"
   ]
  },
  {
   "cell_type": "code",
   "execution_count": 104,
   "id": "c1f7a837",
   "metadata": {},
   "outputs": [],
   "source": [
    "svc = SVC(random_state=2,C=1.2,degree=3,kernel='rbf')"
   ]
  },
  {
   "cell_type": "code",
   "execution_count": 105,
   "id": "9ae06932",
   "metadata": {},
   "outputs": [
    {
     "data": {
      "text/plain": [
       "SVC(C=1.2, random_state=2)"
      ]
     },
     "execution_count": 105,
     "metadata": {},
     "output_type": "execute_result"
    }
   ],
   "source": [
    "svc.fit(X_train,y_train)"
   ]
  },
  {
   "cell_type": "code",
   "execution_count": 106,
   "id": "79de0ee7",
   "metadata": {},
   "outputs": [
    {
     "data": {
      "text/plain": [
       "0.8527673293927995"
      ]
     },
     "execution_count": 106,
     "metadata": {},
     "output_type": "execute_result"
    }
   ],
   "source": [
    "svc.score(X_train,y_train)"
   ]
  },
  {
   "cell_type": "code",
   "execution_count": 107,
   "id": "13bb4823",
   "metadata": {},
   "outputs": [],
   "source": [
    "y_pred = svc.predict(X_test)"
   ]
  },
  {
   "cell_type": "code",
   "execution_count": 108,
   "id": "daf1826e",
   "metadata": {},
   "outputs": [
    {
     "name": "stdout",
     "output_type": "stream",
     "text": [
      "              precision    recall  f1-score   support\n",
      "\n",
      "           0       0.85      0.95      0.90       638\n",
      "           1       0.86      0.65      0.74       293\n",
      "\n",
      "    accuracy                           0.85       931\n",
      "   macro avg       0.86      0.80      0.82       931\n",
      "weighted avg       0.86      0.85      0.85       931\n",
      "\n",
      "\n",
      "Accuracy score:  0.8549946294307197\n",
      "Precision score:  0.8590909090909091\n"
     ]
    }
   ],
   "source": [
    "test_model(y_test,y_pred)"
   ]
  },
  {
   "cell_type": "code",
   "execution_count": 109,
   "id": "43f746d1",
   "metadata": {},
   "outputs": [
    {
     "name": "stdout",
     "output_type": "stream",
     "text": [
      "[[607  31]\n",
      " [104 189]]\n"
     ]
    }
   ],
   "source": [
    "cf_matrix = confusion_matrix(y_test,y_pred)\n",
    "print(cf_matrix)"
   ]
  },
  {
   "cell_type": "code",
   "execution_count": 110,
   "id": "2ec71bd9",
   "metadata": {},
   "outputs": [
    {
     "data": {
      "image/png": "[encoded data removed]",
      "text/plain": [
       "<Figure size 720x576 with 2 Axes>"
      ]
     },
     "metadata": {},
     "output_type": "display_data"
    }
   ],
   "source": [
    "ax = sns.heatmap(cf_matrix/np.sum(cf_matrix), annot=True, \n",
    "            fmt='.2%', cmap='Blues')\n",
    "\n",
    "ax.set_title('Seaborn Confusion Matrix SupportVectorClassifier\\n\\n')\n",
    "ax.set_xlabel('\\nPredicted Values')\n",
    "ax.set_ylabel('Actual Values ');"
   ]
  },
  {
   "cell_type": "markdown",
   "id": "bcd7dc76",
   "metadata": {},
   "source": [
    "## Accuracy and Precision comparison"
   ]
  },
  {
   "cell_type": "code",
   "execution_count": 111,
   "id": "46a187bb",
   "metadata": {},
   "outputs": [
    {
     "data": {
      "text/html": [
       "<div>\n",
       "<style scoped>\n",
       "    .dataframe tbody tr th:only-of-type {\n",
       "        vertical-align: middle;\n",
       "    }\n",
       "\n",
       "    .dataframe tbody tr th {\n",
       "        vertical-align: top;\n",
       "    }\n",
       "\n",
       "    .dataframe thead th {\n",
       "        text-align: right;\n",
       "    }\n",
       "</style>\n",
       "<table border=\"1\" class=\"dataframe\">\n",
       "  <thead>\n",
       "    <tr style=\"text-align: right;\">\n",
       "      <th></th>\n",
       "      <th>Algorithm</th>\n",
       "      <th>Accuracy</th>\n",
       "      <th>Precision</th>\n",
       "    </tr>\n",
       "  </thead>\n",
       "  <tbody>\n",
       "    <tr>\n",
       "      <th>5</th>\n",
       "      <td>BaggingClassifier</td>\n",
       "      <td>0.866810</td>\n",
       "      <td>0.916256</td>\n",
       "    </tr>\n",
       "    <tr>\n",
       "      <th>1</th>\n",
       "      <td>DecisionTreeClassifier</td>\n",
       "      <td>0.862513</td>\n",
       "      <td>0.831325</td>\n",
       "    </tr>\n",
       "    <tr>\n",
       "      <th>3</th>\n",
       "      <td>RandomForestClassifier</td>\n",
       "      <td>0.858217</td>\n",
       "      <td>0.925926</td>\n",
       "    </tr>\n",
       "    <tr>\n",
       "      <th>6</th>\n",
       "      <td>SupportVectorClassifier</td>\n",
       "      <td>0.854995</td>\n",
       "      <td>0.859091</td>\n",
       "    </tr>\n",
       "    <tr>\n",
       "      <th>4</th>\n",
       "      <td>AdaBoostClassifier</td>\n",
       "      <td>0.813104</td>\n",
       "      <td>0.796020</td>\n",
       "    </tr>\n",
       "    <tr>\n",
       "      <th>0</th>\n",
       "      <td>K-nearest neighbors</td>\n",
       "      <td>0.792696</td>\n",
       "      <td>0.801205</td>\n",
       "    </tr>\n",
       "    <tr>\n",
       "      <th>2</th>\n",
       "      <td>LogisticRegression</td>\n",
       "      <td>0.752954</td>\n",
       "      <td>0.668449</td>\n",
       "    </tr>\n",
       "  </tbody>\n",
       "</table>\n",
       "</div>"
      ],
      "text/plain": [
       "                 Algorithm  Accuracy  Precision\n",
       "5        BaggingClassifier  0.866810   0.916256\n",
       "1   DecisionTreeClassifier  0.862513   0.831325\n",
       "3   RandomForestClassifier  0.858217   0.925926\n",
       "6  SupportVectorClassifier  0.854995   0.859091\n",
       "4       AdaBoostClassifier  0.813104   0.796020\n",
       "0      K-nearest neighbors  0.792696   0.801205\n",
       "2       LogisticRegression  0.752954   0.668449"
      ]
     },
     "execution_count": 111,
     "metadata": {},
     "output_type": "execute_result"
    }
   ],
   "source": [
    "models = {\n",
    "    'K-nearest neighbors' : knn, \n",
    "    'DecisionTreeClassifier': dtc, \n",
    "    'LogisticRegression': lrc, \n",
    "    'RandomForestClassifier': rfc, \n",
    "    'AdaBoostClassifier': abc, \n",
    "    'BaggingClassifier': bc, \n",
    "    'SupportVectorClassifier': svc\n",
    "}\n",
    "\n",
    "accuracy_scores = []\n",
    "precision_scores = []\n",
    "\n",
    "for name,model in models.items():\n",
    "    \n",
    "    current_accuracy,current_precision = train_model(model, X_train,y_train,X_test,y_test)\n",
    "    accuracy_scores.append(current_accuracy)\n",
    "    precision_scores.append(current_precision)\n",
    "    \n",
    "\n",
    "performance_df = pd.DataFrame({'Algorithm':models.keys(),'Accuracy':accuracy_scores,'Precision':precision_scores}).sort_values('Accuracy',ascending=False)\n",
    "performance_df"
   ]
  },
  {
   "cell_type": "code",
   "execution_count": 112,
   "id": "7cf53cd5",
   "metadata": {},
   "outputs": [
    {
     "name": "stdout",
     "output_type": "stream",
     "text": [
      "JoiningYear                  0.296850\n",
      "PaymentTier                  0.194894\n",
      "City_Pune                    0.141158\n",
      "Education                    0.132925\n",
      "Gender_Male                  0.089467\n",
      "Age                          0.062629\n",
      "ExperienceInCurrentDomain    0.047344\n",
      "EverBenched_Yes              0.019334\n",
      "City_New Delhi               0.015399\n",
      "dtype: float64\n"
     ]
    }
   ],
   "source": [
    "feature = pd.Series(dtc.feature_importances_, index = X_train.columns).sort_values(ascending = False)\n",
    "print(feature)"
   ]
  },
  {
   "cell_type": "code",
   "execution_count": 113,
   "id": "44abfa6a",
   "metadata": {},
   "outputs": [
    {
     "data": {
      "image/png": "[encoded data removed]",
      "text/plain": [
       "<Figure size 720x432 with 1 Axes>"
      ]
     },
     "metadata": {},
     "output_type": "display_data"
    }
   ],
   "source": [
    "plt.figure(figsize = (10,6))\n",
    "sns.barplot(x = feature, y = feature.index)\n",
    "plt.title(\"Feature Importance DecisionTreeClassifier\")\n",
    "plt.xlabel('Score')\n",
    "plt.ylabel('Features')\n",
    "plt.show()"
   ]
  },
  {
   "cell_type": "code",
   "execution_count": 114,
   "id": "9a6b825d",
   "metadata": {},
   "outputs": [
    {
     "name": "stdout",
     "output_type": "stream",
     "text": [
      "JoiningYear                  0.400260\n",
      "PaymentTier                  0.141636\n",
      "City_Pune                    0.130985\n",
      "Education                    0.118780\n",
      "Gender_Male                  0.117833\n",
      "Age                          0.037057\n",
      "ExperienceInCurrentDomain    0.020857\n",
      "City_New Delhi               0.020274\n",
      "EverBenched_Yes              0.012318\n",
      "dtype: float64\n"
     ]
    }
   ],
   "source": [
    "feature = pd.Series(rfc.feature_importances_, index = X_train.columns).sort_values(ascending = False)\n",
    "print(feature)"
   ]
  },
  {
   "cell_type": "code",
   "execution_count": 115,
   "id": "4b5aebeb",
   "metadata": {},
   "outputs": [
    {
     "data": {
      "image/png": "[encoded data removed]",
      "text/plain": [
       "<Figure size 720x432 with 1 Axes>"
      ]
     },
     "metadata": {},
     "output_type": "display_data"
    }
   ],
   "source": [
    "plt.figure(figsize = (10,6))\n",
    "sns.barplot(x = feature, y = feature.index)\n",
    "plt.title(\"Feature Importance RandomForestClassifier\")\n",
    "plt.xlabel('Score')\n",
    "plt.ylabel('Features')\n",
    "plt.show()"
   ]
  },
  {
   "cell_type": "code",
   "execution_count": 116,
   "id": "c14f34a3",
   "metadata": {},
   "outputs": [
    {
     "name": "stdout",
     "output_type": "stream",
     "text": [
      "Age                          0.433333\n",
      "ExperienceInCurrentDomain    0.277778\n",
      "JoiningYear                  0.144444\n",
      "Education                    0.050000\n",
      "PaymentTier                  0.027778\n",
      "City_Pune                    0.027778\n",
      "City_New Delhi               0.022222\n",
      "Gender_Male                  0.011111\n",
      "EverBenched_Yes              0.005556\n",
      "dtype: float64\n"
     ]
    }
   ],
   "source": [
    "feature = pd.Series(abc.feature_importances_, index = X_train.columns).sort_values(ascending = False)\n",
    "print(feature)"
   ]
  },
  {
   "cell_type": "code",
   "execution_count": 117,
   "id": "50eccf47",
   "metadata": {},
   "outputs": [
    {
     "data": {
      "image/png": "[encoded data removed]",
      "text/plain": [
       "<Figure size 720x432 with 1 Axes>"
      ]
     },
     "metadata": {},
     "output_type": "display_data"
    }
   ],
   "source": [
    "plt.figure(figsize = (10,6))\n",
    "sns.barplot(x = feature, y = feature.index)\n",
    "plt.title(\"Feature Importance AdaBoostClassifier\")\n",
    "plt.xlabel('Score')\n",
    "plt.ylabel('Features')\n",
    "plt.show()"
   ]
  },
  {
   "cell_type": "code",
   "execution_count": null,
   "id": "56d63d82",
   "metadata": {},
   "outputs": [],
   "source": []
  }
 ],
 "metadata": {
  "kernelspec": {
   "display_name": "Python 3",
   "language": "python",
   "name": "python3"
  },
  "language_info": {
   "codemirror_mode": {
    "name": "ipython",
    "version": 3
   },
   "file_extension": ".py",
   "mimetype": "text/x-python",
   "name": "python",
   "nbconvert_exporter": "python",
   "pygments_lexer": "ipython3",
   "version": "3.6.13"
  }
 },
 "nbformat": 4,
 "nbformat_minor": 5
}
